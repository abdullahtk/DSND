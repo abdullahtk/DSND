{
 "cells": [
  {
   "cell_type": "code",
   "execution_count": 1,
   "metadata": {},
   "outputs": [],
   "source": [
    "# import necessary libs\n",
    "import numpy as np\n",
    "import pandas as pd\n",
    "from matplotlib import pyplot as plt\n",
    "from sklearn.model_selection import train_test_split, GridSearchCV\n",
    "from sklearn.preprocessing import Imputer\n",
    "from sklearn.preprocessing import StandardScaler\n",
    "from sklearn.linear_model import LinearRegression\n",
    "from sklearn.metrics import r2_score\n",
    "from sklearn.tree import DecisionTreeRegressor\n",
    "from sklearn.ensemble import RandomForestRegressor, GradientBoostingRegressor, AdaBoostRegressor\n",
    "from sklearn.svm import SVR\n",
    "from sklearn.linear_model import Lasso, ElasticNet"
   ]
  },
  {
   "cell_type": "markdown",
   "metadata": {},
   "source": [
    "# Business Understanding\n",
    "The purpose of this project is to analyze Los Angeles hooms and rooms listings in Airbnb to:\n",
    "* Predict the price, \n",
    "* Understand the features that derive the price\n",
    "* Know when it is the busiest in Los Angeles\n"
   ]
  },
  {
   "cell_type": "markdown",
   "metadata": {},
   "source": [
    "# Data Understanding\n",
    "Datasets found in this notebook are provided and available through Airbnb Data center.\n",
    "\n",
    "There are two files that I will be working on. The first one is 'listings 2.csv' which containes information about the listings such as location, number of beds and price. The other file is 'calender 2.cvs' which contains information about the daily availability of each listing."
   ]
  },
  {
   "cell_type": "markdown",
   "metadata": {},
   "source": [
    "## Understanding the 'listings' data\n",
    "Let's load the data and check the number of columns and the name of each one"
   ]
  },
  {
   "cell_type": "code",
   "execution_count": 2,
   "metadata": {},
   "outputs": [
    {
     "name": "stdout",
     "output_type": "stream",
     "text": [
      "(39821, 96)\n",
      "Listings columns\n",
      "['id' 'listing_url' 'scrape_id' 'last_scraped' 'name' 'summary' 'space'\n",
      " 'description' 'experiences_offered' 'neighborhood_overview' 'notes'\n",
      " 'transit' 'access' 'interaction' 'house_rules' 'thumbnail_url'\n",
      " 'medium_url' 'picture_url' 'xl_picture_url' 'host_id' 'host_url'\n",
      " 'host_name' 'host_since' 'host_location' 'host_about'\n",
      " 'host_response_time' 'host_response_rate' 'host_acceptance_rate'\n",
      " 'host_is_superhost' 'host_thumbnail_url' 'host_picture_url'\n",
      " 'host_neighbourhood' 'host_listings_count' 'host_total_listings_count'\n",
      " 'host_verifications' 'host_has_profile_pic' 'host_identity_verified'\n",
      " 'street' 'neighbourhood' 'neighbourhood_cleansed'\n",
      " 'neighbourhood_group_cleansed' 'city' 'state' 'zipcode' 'market'\n",
      " 'smart_location' 'country_code' 'country' 'latitude' 'longitude'\n",
      " 'is_location_exact' 'property_type' 'room_type' 'accommodates'\n",
      " 'bathrooms' 'bedrooms' 'beds' 'bed_type' 'amenities' 'square_feet'\n",
      " 'price' 'weekly_price' 'monthly_price' 'security_deposit' 'cleaning_fee'\n",
      " 'guests_included' 'extra_people' 'minimum_nights' 'maximum_nights'\n",
      " 'calendar_updated' 'has_availability' 'availability_30' 'availability_60'\n",
      " 'availability_90' 'availability_365' 'calendar_last_scraped'\n",
      " 'number_of_reviews' 'first_review' 'last_review' 'review_scores_rating'\n",
      " 'review_scores_accuracy' 'review_scores_cleanliness'\n",
      " 'review_scores_checkin' 'review_scores_communication'\n",
      " 'review_scores_location' 'review_scores_value' 'requires_license'\n",
      " 'license' 'jurisdiction_names' 'instant_bookable'\n",
      " 'is_business_travel_ready' 'cancellation_policy'\n",
      " 'require_guest_profile_picture' 'require_guest_phone_verification'\n",
      " 'calculated_host_listings_count' 'reviews_per_month']\n"
     ]
    },
    {
     "name": "stderr",
     "output_type": "stream",
     "text": [
      "/anaconda3/lib/python3.7/site-packages/IPython/core/interactiveshell.py:3044: DtypeWarning: Columns (43) have mixed types. Specify dtype option on import or set low_memory=False.\n",
      "  interactivity=interactivity, compiler=compiler, result=result)\n"
     ]
    }
   ],
   "source": [
    "# Loading the listing data\n",
    "listings = pd.read_csv('../data/listings 2.csv')\n",
    "\n",
    "#print the number of rows and columns\n",
    "print(listings.shape)\n",
    "\n",
    "print(\"Listings columns\")\n",
    "print(listings.columns.values)"
   ]
  },
  {
   "cell_type": "markdown",
   "metadata": {},
   "source": [
    "There are 96 columns and 39821 rows. Let's check the first 5 rows."
   ]
  },
  {
   "cell_type": "code",
   "execution_count": 3,
   "metadata": {},
   "outputs": [
    {
     "data": {
      "text/html": [
       "<div>\n",
       "<style scoped>\n",
       "    .dataframe tbody tr th:only-of-type {\n",
       "        vertical-align: middle;\n",
       "    }\n",
       "\n",
       "    .dataframe tbody tr th {\n",
       "        vertical-align: top;\n",
       "    }\n",
       "\n",
       "    .dataframe thead th {\n",
       "        text-align: right;\n",
       "    }\n",
       "</style>\n",
       "<table border=\"1\" class=\"dataframe\">\n",
       "  <thead>\n",
       "    <tr style=\"text-align: right;\">\n",
       "      <th></th>\n",
       "      <th>id</th>\n",
       "      <th>listing_url</th>\n",
       "      <th>scrape_id</th>\n",
       "      <th>last_scraped</th>\n",
       "      <th>name</th>\n",
       "      <th>summary</th>\n",
       "      <th>space</th>\n",
       "      <th>description</th>\n",
       "      <th>experiences_offered</th>\n",
       "      <th>neighborhood_overview</th>\n",
       "      <th>...</th>\n",
       "      <th>requires_license</th>\n",
       "      <th>license</th>\n",
       "      <th>jurisdiction_names</th>\n",
       "      <th>instant_bookable</th>\n",
       "      <th>is_business_travel_ready</th>\n",
       "      <th>cancellation_policy</th>\n",
       "      <th>require_guest_profile_picture</th>\n",
       "      <th>require_guest_phone_verification</th>\n",
       "      <th>calculated_host_listings_count</th>\n",
       "      <th>reviews_per_month</th>\n",
       "    </tr>\n",
       "  </thead>\n",
       "  <tbody>\n",
       "    <tr>\n",
       "      <th>0</th>\n",
       "      <td>109</td>\n",
       "      <td>https://www.airbnb.com/rooms/109</td>\n",
       "      <td>20180509214934</td>\n",
       "      <td>2018-05-10</td>\n",
       "      <td>Amazing bright elegant condo park front *UPGRA...</td>\n",
       "      <td>*** Unit upgraded with new bamboo flooring, br...</td>\n",
       "      <td>*** Unit upgraded with new bamboo flooring, br...</td>\n",
       "      <td>*** Unit upgraded with new bamboo flooring, br...</td>\n",
       "      <td>none</td>\n",
       "      <td>NaN</td>\n",
       "      <td>...</td>\n",
       "      <td>f</td>\n",
       "      <td>NaN</td>\n",
       "      <td>NaN</td>\n",
       "      <td>f</td>\n",
       "      <td>f</td>\n",
       "      <td>strict_14_with_grace_period</td>\n",
       "      <td>t</td>\n",
       "      <td>f</td>\n",
       "      <td>1</td>\n",
       "      <td>0.02</td>\n",
       "    </tr>\n",
       "    <tr>\n",
       "      <th>1</th>\n",
       "      <td>344</td>\n",
       "      <td>https://www.airbnb.com/rooms/344</td>\n",
       "      <td>20180509214934</td>\n",
       "      <td>2018-05-10</td>\n",
       "      <td>Family perfect;Pool;Near Studios!</td>\n",
       "      <td>This home is perfect for families; aspiring ch...</td>\n",
       "      <td>Cheerful &amp; comfortable; near studios, amusemen...</td>\n",
       "      <td>This home is perfect for families; aspiring ch...</td>\n",
       "      <td>none</td>\n",
       "      <td>Quiet-yet-close to all the fun in LA! Hollywoo...</td>\n",
       "      <td>...</td>\n",
       "      <td>f</td>\n",
       "      <td>NaN</td>\n",
       "      <td>NaN</td>\n",
       "      <td>t</td>\n",
       "      <td>f</td>\n",
       "      <td>flexible</td>\n",
       "      <td>f</td>\n",
       "      <td>f</td>\n",
       "      <td>1</td>\n",
       "      <td>0.04</td>\n",
       "    </tr>\n",
       "    <tr>\n",
       "      <th>2</th>\n",
       "      <td>2404</td>\n",
       "      <td>https://www.airbnb.com/rooms/2404</td>\n",
       "      <td>20180509214934</td>\n",
       "      <td>2018-05-10</td>\n",
       "      <td>deleted</td>\n",
       "      <td>NaN</td>\n",
       "      <td>deleted</td>\n",
       "      <td>deleted</td>\n",
       "      <td>none</td>\n",
       "      <td>NaN</td>\n",
       "      <td>...</td>\n",
       "      <td>f</td>\n",
       "      <td>NaN</td>\n",
       "      <td>{\"City of Los Angeles\",\" CA\"}</td>\n",
       "      <td>f</td>\n",
       "      <td>f</td>\n",
       "      <td>moderate</td>\n",
       "      <td>f</td>\n",
       "      <td>f</td>\n",
       "      <td>1</td>\n",
       "      <td>NaN</td>\n",
       "    </tr>\n",
       "    <tr>\n",
       "      <th>3</th>\n",
       "      <td>2732</td>\n",
       "      <td>https://www.airbnb.com/rooms/2732</td>\n",
       "      <td>20180509214934</td>\n",
       "      <td>2018-05-11</td>\n",
       "      <td>Zen Life at the Beach</td>\n",
       "      <td>NaN</td>\n",
       "      <td>This is a three story townhouse with the follo...</td>\n",
       "      <td>This is a three story townhouse with the follo...</td>\n",
       "      <td>none</td>\n",
       "      <td>NaN</td>\n",
       "      <td>...</td>\n",
       "      <td>t</td>\n",
       "      <td>NaN</td>\n",
       "      <td>{\"Santa Monica\"}</td>\n",
       "      <td>f</td>\n",
       "      <td>f</td>\n",
       "      <td>strict_14_with_grace_period</td>\n",
       "      <td>f</td>\n",
       "      <td>f</td>\n",
       "      <td>2</td>\n",
       "      <td>0.20</td>\n",
       "    </tr>\n",
       "    <tr>\n",
       "      <th>4</th>\n",
       "      <td>2864</td>\n",
       "      <td>https://www.airbnb.com/rooms/2864</td>\n",
       "      <td>20180509214934</td>\n",
       "      <td>2018-05-10</td>\n",
       "      <td>*Upscale Professional Home with Beautiful Studio*</td>\n",
       "      <td>Centrally located.... Furnished with 42 inch S...</td>\n",
       "      <td>The space is furnished with Thomasville furnit...</td>\n",
       "      <td>Centrally located.... Furnished with 42 inch S...</td>\n",
       "      <td>none</td>\n",
       "      <td>What makes the neighborhood unique is that the...</td>\n",
       "      <td>...</td>\n",
       "      <td>f</td>\n",
       "      <td>NaN</td>\n",
       "      <td>NaN</td>\n",
       "      <td>f</td>\n",
       "      <td>f</td>\n",
       "      <td>strict_14_with_grace_period</td>\n",
       "      <td>f</td>\n",
       "      <td>f</td>\n",
       "      <td>2</td>\n",
       "      <td>NaN</td>\n",
       "    </tr>\n",
       "  </tbody>\n",
       "</table>\n",
       "<p>5 rows × 96 columns</p>\n",
       "</div>"
      ],
      "text/plain": [
       "     id                        listing_url       scrape_id last_scraped  \\\n",
       "0   109   https://www.airbnb.com/rooms/109  20180509214934   2018-05-10   \n",
       "1   344   https://www.airbnb.com/rooms/344  20180509214934   2018-05-10   \n",
       "2  2404  https://www.airbnb.com/rooms/2404  20180509214934   2018-05-10   \n",
       "3  2732  https://www.airbnb.com/rooms/2732  20180509214934   2018-05-11   \n",
       "4  2864  https://www.airbnb.com/rooms/2864  20180509214934   2018-05-10   \n",
       "\n",
       "                                                name  \\\n",
       "0  Amazing bright elegant condo park front *UPGRA...   \n",
       "1                  Family perfect;Pool;Near Studios!   \n",
       "2                                            deleted   \n",
       "3                              Zen Life at the Beach   \n",
       "4  *Upscale Professional Home with Beautiful Studio*   \n",
       "\n",
       "                                             summary  \\\n",
       "0  *** Unit upgraded with new bamboo flooring, br...   \n",
       "1  This home is perfect for families; aspiring ch...   \n",
       "2                                                NaN   \n",
       "3                                                NaN   \n",
       "4  Centrally located.... Furnished with 42 inch S...   \n",
       "\n",
       "                                               space  \\\n",
       "0  *** Unit upgraded with new bamboo flooring, br...   \n",
       "1  Cheerful & comfortable; near studios, amusemen...   \n",
       "2                                            deleted   \n",
       "3  This is a three story townhouse with the follo...   \n",
       "4  The space is furnished with Thomasville furnit...   \n",
       "\n",
       "                                         description experiences_offered  \\\n",
       "0  *** Unit upgraded with new bamboo flooring, br...                none   \n",
       "1  This home is perfect for families; aspiring ch...                none   \n",
       "2                                            deleted                none   \n",
       "3  This is a three story townhouse with the follo...                none   \n",
       "4  Centrally located.... Furnished with 42 inch S...                none   \n",
       "\n",
       "                               neighborhood_overview  ... requires_license  \\\n",
       "0                                                NaN  ...                f   \n",
       "1  Quiet-yet-close to all the fun in LA! Hollywoo...  ...                f   \n",
       "2                                                NaN  ...                f   \n",
       "3                                                NaN  ...                t   \n",
       "4  What makes the neighborhood unique is that the...  ...                f   \n",
       "\n",
       "  license             jurisdiction_names instant_bookable  \\\n",
       "0     NaN                            NaN                f   \n",
       "1     NaN                            NaN                t   \n",
       "2     NaN  {\"City of Los Angeles\",\" CA\"}                f   \n",
       "3     NaN               {\"Santa Monica\"}                f   \n",
       "4     NaN                            NaN                f   \n",
       "\n",
       "  is_business_travel_ready          cancellation_policy  \\\n",
       "0                        f  strict_14_with_grace_period   \n",
       "1                        f                     flexible   \n",
       "2                        f                     moderate   \n",
       "3                        f  strict_14_with_grace_period   \n",
       "4                        f  strict_14_with_grace_period   \n",
       "\n",
       "   require_guest_profile_picture require_guest_phone_verification  \\\n",
       "0                              t                                f   \n",
       "1                              f                                f   \n",
       "2                              f                                f   \n",
       "3                              f                                f   \n",
       "4                              f                                f   \n",
       "\n",
       "   calculated_host_listings_count  reviews_per_month  \n",
       "0                               1               0.02  \n",
       "1                               1               0.04  \n",
       "2                               1                NaN  \n",
       "3                               2               0.20  \n",
       "4                               2                NaN  \n",
       "\n",
       "[5 rows x 96 columns]"
      ]
     },
     "execution_count": 3,
     "metadata": {},
     "output_type": "execute_result"
    }
   ],
   "source": [
    "listings.head(5)"
   ]
  },
  {
   "cell_type": "markdown",
   "metadata": {},
   "source": [
    "There are 96 columns/features that describe each listing. While some of them are meaningful, others are redundunt.\n",
    "To understand the data more, the mean and standard deviation can tell a lot about the data."
   ]
  },
  {
   "cell_type": "code",
   "execution_count": 4,
   "metadata": {},
   "outputs": [
    {
     "data": {
      "text/html": [
       "<div>\n",
       "<style scoped>\n",
       "    .dataframe tbody tr th:only-of-type {\n",
       "        vertical-align: middle;\n",
       "    }\n",
       "\n",
       "    .dataframe tbody tr th {\n",
       "        vertical-align: top;\n",
       "    }\n",
       "\n",
       "    .dataframe thead th {\n",
       "        text-align: right;\n",
       "    }\n",
       "</style>\n",
       "<table border=\"1\" class=\"dataframe\">\n",
       "  <thead>\n",
       "    <tr style=\"text-align: right;\">\n",
       "      <th></th>\n",
       "      <th>id</th>\n",
       "      <th>scrape_id</th>\n",
       "      <th>thumbnail_url</th>\n",
       "      <th>medium_url</th>\n",
       "      <th>xl_picture_url</th>\n",
       "      <th>host_id</th>\n",
       "      <th>host_acceptance_rate</th>\n",
       "      <th>host_listings_count</th>\n",
       "      <th>host_total_listings_count</th>\n",
       "      <th>neighbourhood_group_cleansed</th>\n",
       "      <th>...</th>\n",
       "      <th>number_of_reviews</th>\n",
       "      <th>review_scores_rating</th>\n",
       "      <th>review_scores_accuracy</th>\n",
       "      <th>review_scores_cleanliness</th>\n",
       "      <th>review_scores_checkin</th>\n",
       "      <th>review_scores_communication</th>\n",
       "      <th>review_scores_location</th>\n",
       "      <th>review_scores_value</th>\n",
       "      <th>calculated_host_listings_count</th>\n",
       "      <th>reviews_per_month</th>\n",
       "    </tr>\n",
       "  </thead>\n",
       "  <tbody>\n",
       "    <tr>\n",
       "      <th>count</th>\n",
       "      <td>3.982100e+04</td>\n",
       "      <td>3.982100e+04</td>\n",
       "      <td>0.0</td>\n",
       "      <td>0.0</td>\n",
       "      <td>0.0</td>\n",
       "      <td>3.982100e+04</td>\n",
       "      <td>0.0</td>\n",
       "      <td>39762.000000</td>\n",
       "      <td>39762.000000</td>\n",
       "      <td>0.0</td>\n",
       "      <td>...</td>\n",
       "      <td>39821.000000</td>\n",
       "      <td>30590.000000</td>\n",
       "      <td>30541.000000</td>\n",
       "      <td>30548.000000</td>\n",
       "      <td>30493.000000</td>\n",
       "      <td>30539.000000</td>\n",
       "      <td>30481.000000</td>\n",
       "      <td>30473.000000</td>\n",
       "      <td>39821.000000</td>\n",
       "      <td>31178.000000</td>\n",
       "    </tr>\n",
       "    <tr>\n",
       "      <th>mean</th>\n",
       "      <td>1.506239e+07</td>\n",
       "      <td>2.018051e+13</td>\n",
       "      <td>NaN</td>\n",
       "      <td>NaN</td>\n",
       "      <td>NaN</td>\n",
       "      <td>5.275763e+07</td>\n",
       "      <td>NaN</td>\n",
       "      <td>7.332604</td>\n",
       "      <td>7.332604</td>\n",
       "      <td>NaN</td>\n",
       "      <td>...</td>\n",
       "      <td>25.130785</td>\n",
       "      <td>94.431808</td>\n",
       "      <td>9.631741</td>\n",
       "      <td>9.443008</td>\n",
       "      <td>9.775129</td>\n",
       "      <td>9.764694</td>\n",
       "      <td>9.647649</td>\n",
       "      <td>9.503528</td>\n",
       "      <td>4.924663</td>\n",
       "      <td>1.876860</td>\n",
       "    </tr>\n",
       "    <tr>\n",
       "      <th>std</th>\n",
       "      <td>7.318457e+06</td>\n",
       "      <td>5.367255e+00</td>\n",
       "      <td>NaN</td>\n",
       "      <td>NaN</td>\n",
       "      <td>NaN</td>\n",
       "      <td>5.251971e+07</td>\n",
       "      <td>NaN</td>\n",
       "      <td>33.406735</td>\n",
       "      <td>33.406735</td>\n",
       "      <td>NaN</td>\n",
       "      <td>...</td>\n",
       "      <td>46.483322</td>\n",
       "      <td>8.414829</td>\n",
       "      <td>0.823985</td>\n",
       "      <td>0.965774</td>\n",
       "      <td>0.703225</td>\n",
       "      <td>0.721231</td>\n",
       "      <td>0.737889</td>\n",
       "      <td>0.862986</td>\n",
       "      <td>11.528797</td>\n",
       "      <td>2.237863</td>\n",
       "    </tr>\n",
       "    <tr>\n",
       "      <th>min</th>\n",
       "      <td>1.090000e+02</td>\n",
       "      <td>2.018051e+13</td>\n",
       "      <td>NaN</td>\n",
       "      <td>NaN</td>\n",
       "      <td>NaN</td>\n",
       "      <td>5.900000e+01</td>\n",
       "      <td>NaN</td>\n",
       "      <td>0.000000</td>\n",
       "      <td>0.000000</td>\n",
       "      <td>NaN</td>\n",
       "      <td>...</td>\n",
       "      <td>0.000000</td>\n",
       "      <td>20.000000</td>\n",
       "      <td>2.000000</td>\n",
       "      <td>2.000000</td>\n",
       "      <td>2.000000</td>\n",
       "      <td>2.000000</td>\n",
       "      <td>2.000000</td>\n",
       "      <td>2.000000</td>\n",
       "      <td>1.000000</td>\n",
       "      <td>0.010000</td>\n",
       "    </tr>\n",
       "    <tr>\n",
       "      <th>25%</th>\n",
       "      <td>9.151248e+06</td>\n",
       "      <td>2.018051e+13</td>\n",
       "      <td>NaN</td>\n",
       "      <td>NaN</td>\n",
       "      <td>NaN</td>\n",
       "      <td>9.376458e+06</td>\n",
       "      <td>NaN</td>\n",
       "      <td>1.000000</td>\n",
       "      <td>1.000000</td>\n",
       "      <td>NaN</td>\n",
       "      <td>...</td>\n",
       "      <td>1.000000</td>\n",
       "      <td>93.000000</td>\n",
       "      <td>9.000000</td>\n",
       "      <td>9.000000</td>\n",
       "      <td>10.000000</td>\n",
       "      <td>10.000000</td>\n",
       "      <td>9.000000</td>\n",
       "      <td>9.000000</td>\n",
       "      <td>1.000000</td>\n",
       "      <td>0.390000</td>\n",
       "    </tr>\n",
       "    <tr>\n",
       "      <th>50%</th>\n",
       "      <td>1.657347e+07</td>\n",
       "      <td>2.018051e+13</td>\n",
       "      <td>NaN</td>\n",
       "      <td>NaN</td>\n",
       "      <td>NaN</td>\n",
       "      <td>3.278914e+07</td>\n",
       "      <td>NaN</td>\n",
       "      <td>2.000000</td>\n",
       "      <td>2.000000</td>\n",
       "      <td>NaN</td>\n",
       "      <td>...</td>\n",
       "      <td>6.000000</td>\n",
       "      <td>97.000000</td>\n",
       "      <td>10.000000</td>\n",
       "      <td>10.000000</td>\n",
       "      <td>10.000000</td>\n",
       "      <td>10.000000</td>\n",
       "      <td>10.000000</td>\n",
       "      <td>10.000000</td>\n",
       "      <td>2.000000</td>\n",
       "      <td>1.100000</td>\n",
       "    </tr>\n",
       "    <tr>\n",
       "      <th>75%</th>\n",
       "      <td>2.143556e+07</td>\n",
       "      <td>2.018051e+13</td>\n",
       "      <td>NaN</td>\n",
       "      <td>NaN</td>\n",
       "      <td>NaN</td>\n",
       "      <td>8.496351e+07</td>\n",
       "      <td>NaN</td>\n",
       "      <td>4.000000</td>\n",
       "      <td>4.000000</td>\n",
       "      <td>NaN</td>\n",
       "      <td>...</td>\n",
       "      <td>28.000000</td>\n",
       "      <td>100.000000</td>\n",
       "      <td>10.000000</td>\n",
       "      <td>10.000000</td>\n",
       "      <td>10.000000</td>\n",
       "      <td>10.000000</td>\n",
       "      <td>10.000000</td>\n",
       "      <td>10.000000</td>\n",
       "      <td>4.000000</td>\n",
       "      <td>2.740000</td>\n",
       "    </tr>\n",
       "    <tr>\n",
       "      <th>max</th>\n",
       "      <td>2.496704e+07</td>\n",
       "      <td>2.018051e+13</td>\n",
       "      <td>NaN</td>\n",
       "      <td>NaN</td>\n",
       "      <td>NaN</td>\n",
       "      <td>1.886280e+08</td>\n",
       "      <td>NaN</td>\n",
       "      <td>1124.000000</td>\n",
       "      <td>1124.000000</td>\n",
       "      <td>NaN</td>\n",
       "      <td>...</td>\n",
       "      <td>699.000000</td>\n",
       "      <td>100.000000</td>\n",
       "      <td>10.000000</td>\n",
       "      <td>10.000000</td>\n",
       "      <td>10.000000</td>\n",
       "      <td>10.000000</td>\n",
       "      <td>10.000000</td>\n",
       "      <td>10.000000</td>\n",
       "      <td>145.000000</td>\n",
       "      <td>88.000000</td>\n",
       "    </tr>\n",
       "  </tbody>\n",
       "</table>\n",
       "<p>8 rows × 34 columns</p>\n",
       "</div>"
      ],
      "text/plain": [
       "                 id     scrape_id  thumbnail_url  medium_url  xl_picture_url  \\\n",
       "count  3.982100e+04  3.982100e+04            0.0         0.0             0.0   \n",
       "mean   1.506239e+07  2.018051e+13            NaN         NaN             NaN   \n",
       "std    7.318457e+06  5.367255e+00            NaN         NaN             NaN   \n",
       "min    1.090000e+02  2.018051e+13            NaN         NaN             NaN   \n",
       "25%    9.151248e+06  2.018051e+13            NaN         NaN             NaN   \n",
       "50%    1.657347e+07  2.018051e+13            NaN         NaN             NaN   \n",
       "75%    2.143556e+07  2.018051e+13            NaN         NaN             NaN   \n",
       "max    2.496704e+07  2.018051e+13            NaN         NaN             NaN   \n",
       "\n",
       "            host_id  host_acceptance_rate  host_listings_count  \\\n",
       "count  3.982100e+04                   0.0         39762.000000   \n",
       "mean   5.275763e+07                   NaN             7.332604   \n",
       "std    5.251971e+07                   NaN            33.406735   \n",
       "min    5.900000e+01                   NaN             0.000000   \n",
       "25%    9.376458e+06                   NaN             1.000000   \n",
       "50%    3.278914e+07                   NaN             2.000000   \n",
       "75%    8.496351e+07                   NaN             4.000000   \n",
       "max    1.886280e+08                   NaN          1124.000000   \n",
       "\n",
       "       host_total_listings_count  neighbourhood_group_cleansed  ...  \\\n",
       "count               39762.000000                           0.0  ...   \n",
       "mean                    7.332604                           NaN  ...   \n",
       "std                    33.406735                           NaN  ...   \n",
       "min                     0.000000                           NaN  ...   \n",
       "25%                     1.000000                           NaN  ...   \n",
       "50%                     2.000000                           NaN  ...   \n",
       "75%                     4.000000                           NaN  ...   \n",
       "max                  1124.000000                           NaN  ...   \n",
       "\n",
       "       number_of_reviews  review_scores_rating  review_scores_accuracy  \\\n",
       "count       39821.000000          30590.000000            30541.000000   \n",
       "mean           25.130785             94.431808                9.631741   \n",
       "std            46.483322              8.414829                0.823985   \n",
       "min             0.000000             20.000000                2.000000   \n",
       "25%             1.000000             93.000000                9.000000   \n",
       "50%             6.000000             97.000000               10.000000   \n",
       "75%            28.000000            100.000000               10.000000   \n",
       "max           699.000000            100.000000               10.000000   \n",
       "\n",
       "       review_scores_cleanliness  review_scores_checkin  \\\n",
       "count               30548.000000           30493.000000   \n",
       "mean                    9.443008               9.775129   \n",
       "std                     0.965774               0.703225   \n",
       "min                     2.000000               2.000000   \n",
       "25%                     9.000000              10.000000   \n",
       "50%                    10.000000              10.000000   \n",
       "75%                    10.000000              10.000000   \n",
       "max                    10.000000              10.000000   \n",
       "\n",
       "       review_scores_communication  review_scores_location  \\\n",
       "count                 30539.000000            30481.000000   \n",
       "mean                      9.764694                9.647649   \n",
       "std                       0.721231                0.737889   \n",
       "min                       2.000000                2.000000   \n",
       "25%                      10.000000                9.000000   \n",
       "50%                      10.000000               10.000000   \n",
       "75%                      10.000000               10.000000   \n",
       "max                      10.000000               10.000000   \n",
       "\n",
       "       review_scores_value  calculated_host_listings_count  reviews_per_month  \n",
       "count         30473.000000                    39821.000000       31178.000000  \n",
       "mean              9.503528                        4.924663           1.876860  \n",
       "std               0.862986                       11.528797           2.237863  \n",
       "min               2.000000                        1.000000           0.010000  \n",
       "25%               9.000000                        1.000000           0.390000  \n",
       "50%              10.000000                        2.000000           1.100000  \n",
       "75%              10.000000                        4.000000           2.740000  \n",
       "max              10.000000                      145.000000          88.000000  \n",
       "\n",
       "[8 rows x 34 columns]"
      ]
     },
     "execution_count": 4,
     "metadata": {},
     "output_type": "execute_result"
    }
   ],
   "source": [
    "listings.describe()"
   ]
  },
  {
   "cell_type": "markdown",
   "metadata": {},
   "source": [
    "Looks like the data has many different data types and some missings data points."
   ]
  },
  {
   "cell_type": "markdown",
   "metadata": {},
   "source": [
    "## Understanding the 'calendar' data\n",
    "Let's load the data and check the number of columns and the name of each one"
   ]
  },
  {
   "cell_type": "code",
   "execution_count": 5,
   "metadata": {},
   "outputs": [
    {
     "name": "stdout",
     "output_type": "stream",
     "text": [
      "(14534665, 4)\n",
      "Listings columns\n",
      "['listing_id' 'date' 'available' 'price']\n"
     ]
    }
   ],
   "source": [
    "# Loading the listing data\n",
    "calendar = pd.read_csv('../data/calendar 2.csv')\n",
    "\n",
    "#print the number of rows and columns\n",
    "print(calendar.shape)\n",
    "\n",
    "print(\"Listings columns\")\n",
    "print(calendar.columns.values)"
   ]
  },
  {
   "cell_type": "markdown",
   "metadata": {},
   "source": [
    "There are 14534665 rows and 4 columns. Let's check the first 5 rows."
   ]
  },
  {
   "cell_type": "code",
   "execution_count": 6,
   "metadata": {},
   "outputs": [
    {
     "data": {
      "text/html": [
       "<div>\n",
       "<style scoped>\n",
       "    .dataframe tbody tr th:only-of-type {\n",
       "        vertical-align: middle;\n",
       "    }\n",
       "\n",
       "    .dataframe tbody tr th {\n",
       "        vertical-align: top;\n",
       "    }\n",
       "\n",
       "    .dataframe thead th {\n",
       "        text-align: right;\n",
       "    }\n",
       "</style>\n",
       "<table border=\"1\" class=\"dataframe\">\n",
       "  <thead>\n",
       "    <tr style=\"text-align: right;\">\n",
       "      <th></th>\n",
       "      <th>listing_id</th>\n",
       "      <th>date</th>\n",
       "      <th>available</th>\n",
       "      <th>price</th>\n",
       "    </tr>\n",
       "  </thead>\n",
       "  <tbody>\n",
       "    <tr>\n",
       "      <th>0</th>\n",
       "      <td>3295878</td>\n",
       "      <td>2019-02-23</td>\n",
       "      <td>t</td>\n",
       "      <td>$95.00</td>\n",
       "    </tr>\n",
       "    <tr>\n",
       "      <th>1</th>\n",
       "      <td>3295878</td>\n",
       "      <td>2019-02-22</td>\n",
       "      <td>t</td>\n",
       "      <td>$95.00</td>\n",
       "    </tr>\n",
       "    <tr>\n",
       "      <th>2</th>\n",
       "      <td>3295878</td>\n",
       "      <td>2019-02-21</td>\n",
       "      <td>t</td>\n",
       "      <td>$95.00</td>\n",
       "    </tr>\n",
       "    <tr>\n",
       "      <th>3</th>\n",
       "      <td>3295878</td>\n",
       "      <td>2019-02-20</td>\n",
       "      <td>t</td>\n",
       "      <td>$95.00</td>\n",
       "    </tr>\n",
       "    <tr>\n",
       "      <th>4</th>\n",
       "      <td>3295878</td>\n",
       "      <td>2019-02-19</td>\n",
       "      <td>t</td>\n",
       "      <td>$95.00</td>\n",
       "    </tr>\n",
       "  </tbody>\n",
       "</table>\n",
       "</div>"
      ],
      "text/plain": [
       "   listing_id        date available   price\n",
       "0     3295878  2019-02-23         t  $95.00\n",
       "1     3295878  2019-02-22         t  $95.00\n",
       "2     3295878  2019-02-21         t  $95.00\n",
       "3     3295878  2019-02-20         t  $95.00\n",
       "4     3295878  2019-02-19         t  $95.00"
      ]
     },
     "execution_count": 6,
     "metadata": {},
     "output_type": "execute_result"
    }
   ],
   "source": [
    "calendar.head(5)"
   ]
  },
  {
   "cell_type": "markdown",
   "metadata": {},
   "source": [
    "Looks like that the availability of each listing is reported on daily basis. To understand the data more, the mean and standard deviation can tell a lot about the data."
   ]
  },
  {
   "cell_type": "code",
   "execution_count": 7,
   "metadata": {},
   "outputs": [
    {
     "data": {
      "text/html": [
       "<div>\n",
       "<style scoped>\n",
       "    .dataframe tbody tr th:only-of-type {\n",
       "        vertical-align: middle;\n",
       "    }\n",
       "\n",
       "    .dataframe tbody tr th {\n",
       "        vertical-align: top;\n",
       "    }\n",
       "\n",
       "    .dataframe thead th {\n",
       "        text-align: right;\n",
       "    }\n",
       "</style>\n",
       "<table border=\"1\" class=\"dataframe\">\n",
       "  <thead>\n",
       "    <tr style=\"text-align: right;\">\n",
       "      <th></th>\n",
       "      <th>listing_id</th>\n",
       "    </tr>\n",
       "  </thead>\n",
       "  <tbody>\n",
       "    <tr>\n",
       "      <th>count</th>\n",
       "      <td>1.453466e+07</td>\n",
       "    </tr>\n",
       "    <tr>\n",
       "      <th>mean</th>\n",
       "      <td>1.506239e+07</td>\n",
       "    </tr>\n",
       "    <tr>\n",
       "      <th>std</th>\n",
       "      <td>7.318365e+06</td>\n",
       "    </tr>\n",
       "    <tr>\n",
       "      <th>min</th>\n",
       "      <td>1.090000e+02</td>\n",
       "    </tr>\n",
       "    <tr>\n",
       "      <th>25%</th>\n",
       "      <td>9.151248e+06</td>\n",
       "    </tr>\n",
       "    <tr>\n",
       "      <th>50%</th>\n",
       "      <td>1.657347e+07</td>\n",
       "    </tr>\n",
       "    <tr>\n",
       "      <th>75%</th>\n",
       "      <td>2.143556e+07</td>\n",
       "    </tr>\n",
       "    <tr>\n",
       "      <th>max</th>\n",
       "      <td>2.496704e+07</td>\n",
       "    </tr>\n",
       "  </tbody>\n",
       "</table>\n",
       "</div>"
      ],
      "text/plain": [
       "         listing_id\n",
       "count  1.453466e+07\n",
       "mean   1.506239e+07\n",
       "std    7.318365e+06\n",
       "min    1.090000e+02\n",
       "25%    9.151248e+06\n",
       "50%    1.657347e+07\n",
       "75%    2.143556e+07\n",
       "max    2.496704e+07"
      ]
     },
     "execution_count": 7,
     "metadata": {},
     "output_type": "execute_result"
    }
   ],
   "source": [
    "calendar.describe()"
   ]
  },
  {
   "cell_type": "markdown",
   "metadata": {},
   "source": [
    "Similar to listings data, calendar data has different data types and some missings data points."
   ]
  },
  {
   "cell_type": "markdown",
   "metadata": {},
   "source": [
    "### Data Cleaning\n",
    "\n",
    "#### Clean 'listings' Data\n",
    "First, I collected all the columns that have more than 35% missing values to see if they can be engineered. If not, I will drop them."
   ]
  },
  {
   "cell_type": "code",
   "execution_count": 8,
   "metadata": {},
   "outputs": [
    {
     "data": {
      "text/plain": [
       "['neighborhood_overview',\n",
       " 'notes',\n",
       " 'transit',\n",
       " 'access',\n",
       " 'interaction',\n",
       " 'thumbnail_url',\n",
       " 'medium_url',\n",
       " 'xl_picture_url',\n",
       " 'host_about',\n",
       " 'host_acceptance_rate',\n",
       " 'neighbourhood_group_cleansed',\n",
       " 'square_feet',\n",
       " 'weekly_price',\n",
       " 'monthly_price',\n",
       " 'license']"
      ]
     },
     "execution_count": 8,
     "metadata": {},
     "output_type": "execute_result"
    }
   ],
   "source": [
    "columns_to_remove = [cols for cols in listings.columns.values if (listings[cols].isnull().sum()/len(listings))>=0.35]\n",
    "columns_to_remove"
   ]
  },
  {
   "cell_type": "code",
   "execution_count": 9,
   "metadata": {},
   "outputs": [
    {
     "name": "stdout",
     "output_type": "stream",
     "text": [
      "neighborhood_overview\n",
      "0                                                  NaN\n",
      "1    Quiet-yet-close to all the fun in LA! Hollywoo...\n",
      "2                                                  NaN\n",
      "3                                                  NaN\n",
      "4    What makes the neighborhood unique is that the...\n",
      "Name: neighborhood_overview, dtype: object\n",
      "notes\n",
      "0                                                  NaN\n",
      "1    One dog may be on premises, friendly and cared...\n",
      "2                                                  NaN\n",
      "3                                                  NaN\n",
      "4    If you are doing business travel, this studio ...\n",
      "Name: notes, dtype: object\n",
      "transit\n",
      "0                                                  NaN\n",
      "1    Short drive to subway and elevated trains runn...\n",
      "2                                                  NaN\n",
      "3                                                  NaN\n",
      "4    Public transportation is a 3 minutes walk to t...\n",
      "Name: transit, dtype: object\n",
      "access\n",
      "0                                                  NaN\n",
      "1    Pool, patio and self-contained main house all ...\n",
      "2                                                  NaN\n",
      "3                                                  NaN\n",
      "4    Good access to all things in Los Angeles and O...\n",
      "Name: access, dtype: object\n",
      "interaction\n",
      "0                                                  NaN\n",
      "1    Host and caretaker may be available throughout...\n",
      "2                                                  NaN\n",
      "3                                                  NaN\n",
      "4    I am always available for questions throughout...\n",
      "Name: interaction, dtype: object\n",
      "thumbnail_url\n",
      "0   NaN\n",
      "1   NaN\n",
      "2   NaN\n",
      "3   NaN\n",
      "4   NaN\n",
      "Name: thumbnail_url, dtype: float64\n",
      "medium_url\n",
      "0   NaN\n",
      "1   NaN\n",
      "2   NaN\n",
      "3   NaN\n",
      "4   NaN\n",
      "Name: medium_url, dtype: float64\n",
      "xl_picture_url\n",
      "0   NaN\n",
      "1   NaN\n",
      "2   NaN\n",
      "3   NaN\n",
      "4   NaN\n",
      "Name: xl_picture_url, dtype: float64\n",
      "host_about\n",
      "0    Search for me on the Internet with the keyword...\n",
      "1    Single mother, CEO and Owner of an internation...\n",
      "2                                       nothing now...\n",
      "3    I have been teaching yoga and meditation for 3...\n",
      "4    Fair, open, honest and very informative for ne...\n",
      "Name: host_about, dtype: object\n",
      "host_acceptance_rate\n",
      "0   NaN\n",
      "1   NaN\n",
      "2   NaN\n",
      "3   NaN\n",
      "4   NaN\n",
      "Name: host_acceptance_rate, dtype: float64\n",
      "neighbourhood_group_cleansed\n",
      "0   NaN\n",
      "1   NaN\n",
      "2   NaN\n",
      "3   NaN\n",
      "4   NaN\n",
      "Name: neighbourhood_group_cleansed, dtype: float64\n",
      "square_feet\n",
      "0   NaN\n",
      "1   NaN\n",
      "2   NaN\n",
      "3   NaN\n",
      "4   NaN\n",
      "Name: square_feet, dtype: float64\n",
      "weekly_price\n",
      "0    $904.00\n",
      "1        NaN\n",
      "2        NaN\n",
      "3    $800.00\n",
      "4    $399.00\n",
      "Name: weekly_price, dtype: object\n",
      "monthly_price\n",
      "0    $2,851.00\n",
      "1          NaN\n",
      "2          NaN\n",
      "3    $1,879.00\n",
      "4    $1,400.00\n",
      "Name: monthly_price, dtype: object\n",
      "license\n",
      "0    NaN\n",
      "1    NaN\n",
      "2    NaN\n",
      "3    NaN\n",
      "4    NaN\n",
      "Name: license, dtype: object\n"
     ]
    }
   ],
   "source": [
    "# print column name along with sample of the data\n",
    "for col in columns_to_remove:\n",
    "    print (col)\n",
    "    print(listings[col].head())"
   ]
  },
  {
   "cell_type": "markdown",
   "metadata": {},
   "source": [
    "The data is mostly null or plain text which is hard to transform to categories. Hence, I dropped those columns."
   ]
  },
  {
   "cell_type": "code",
   "execution_count": 10,
   "metadata": {},
   "outputs": [],
   "source": [
    "listings.drop(columns=columns_to_remove,inplace=True)"
   ]
  },
  {
   "cell_type": "markdown",
   "metadata": {},
   "source": [
    "\n",
    "Next, I wanted to check the data type and transform all non-numeric data to numeric one."
   ]
  },
  {
   "cell_type": "code",
   "execution_count": 11,
   "metadata": {},
   "outputs": [
    {
     "data": {
      "text/plain": [
       "object     53\n",
       "float64    15\n",
       "int64      13\n",
       "dtype: int64"
      ]
     },
     "execution_count": 11,
     "metadata": {},
     "output_type": "execute_result"
    }
   ],
   "source": [
    "listings.dtypes.value_counts()"
   ]
  },
  {
   "cell_type": "markdown",
   "metadata": {},
   "source": [
    "There are 53 non-numeric data. Let's have a look and see if it can be encoded"
   ]
  },
  {
   "cell_type": "code",
   "execution_count": 12,
   "metadata": {},
   "outputs": [
    {
     "name": "stdout",
     "output_type": "stream",
     "text": [
      "listing_url\n",
      "0     https://www.airbnb.com/rooms/109\n",
      "1     https://www.airbnb.com/rooms/344\n",
      "2    https://www.airbnb.com/rooms/2404\n",
      "3    https://www.airbnb.com/rooms/2732\n",
      "4    https://www.airbnb.com/rooms/2864\n",
      "Name: listing_url, dtype: object\n",
      "last_scraped\n",
      "0    2018-05-10\n",
      "1    2018-05-10\n",
      "2    2018-05-10\n",
      "3    2018-05-11\n",
      "4    2018-05-10\n",
      "Name: last_scraped, dtype: object\n",
      "name\n",
      "0    Amazing bright elegant condo park front *UPGRA...\n",
      "1                    Family perfect;Pool;Near Studios!\n",
      "2                                              deleted\n",
      "3                                Zen Life at the Beach\n",
      "4    *Upscale Professional Home with Beautiful Studio*\n",
      "Name: name, dtype: object\n",
      "summary\n",
      "0    *** Unit upgraded with new bamboo flooring, br...\n",
      "1    This home is perfect for families; aspiring ch...\n",
      "2                                                  NaN\n",
      "3                                                  NaN\n",
      "4    Centrally located.... Furnished with 42 inch S...\n",
      "Name: summary, dtype: object\n",
      "space\n",
      "0    *** Unit upgraded with new bamboo flooring, br...\n",
      "1    Cheerful & comfortable; near studios, amusemen...\n",
      "2                                              deleted\n",
      "3    This is a three story townhouse with the follo...\n",
      "4    The space is furnished with Thomasville furnit...\n",
      "Name: space, dtype: object\n",
      "description\n",
      "0    *** Unit upgraded with new bamboo flooring, br...\n",
      "1    This home is perfect for families; aspiring ch...\n",
      "2                                              deleted\n",
      "3    This is a three story townhouse with the follo...\n",
      "4    Centrally located.... Furnished with 42 inch S...\n",
      "Name: description, dtype: object\n",
      "experiences_offered\n",
      "0    none\n",
      "1    none\n",
      "2    none\n",
      "3    none\n",
      "4    none\n",
      "Name: experiences_offered, dtype: object\n",
      "house_rules\n",
      "0    Camelot NEW RESIDENTS’ GENERAL INFORMATION   F...\n",
      "1    Host asks that guests refrain from partying lo...\n",
      "2                                                  NaN\n",
      "3    ABOUT YOU.  Friendly travelers or people comin...\n",
      "4                                                  NaN\n",
      "Name: house_rules, dtype: object\n",
      "picture_url\n",
      "0    https://a0.muscache.com/im/pictures/4321499/1d...\n",
      "1    https://a0.muscache.com/im/pictures/cc4b724d-d...\n",
      "2    https://a0.muscache.com/im/pictures/4627/caa93...\n",
      "3    https://a0.muscache.com/im/pictures/1082974/0f...\n",
      "4    https://a0.muscache.com/im/pictures/23817858/d...\n",
      "Name: picture_url, dtype: object\n",
      "host_url\n",
      "0     https://www.airbnb.com/users/show/521\n",
      "1     https://www.airbnb.com/users/show/767\n",
      "2    https://www.airbnb.com/users/show/2633\n",
      "3    https://www.airbnb.com/users/show/3041\n",
      "4    https://www.airbnb.com/users/show/3207\n",
      "Name: host_url, dtype: object\n",
      "host_name\n",
      "0             Paolo\n",
      "1           Melissa\n",
      "2              Jjjj\n",
      "3    Yoga Priestess\n",
      "4         Bernadine\n",
      "Name: host_name, dtype: object\n",
      "host_since\n",
      "0    2008-06-27\n",
      "1    2008-07-11\n",
      "2    2008-08-30\n",
      "3    2008-09-17\n",
      "4    2008-09-25\n",
      "Name: host_since, dtype: object\n",
      "host_location\n",
      "0    San Francisco, California, United States\n",
      "1          Burbank, California, United States\n",
      "2                                          US\n",
      "3     Santa Monica, California, United States\n",
      "4       Long Beach, California, United States\n",
      "Name: host_location, dtype: object\n",
      "host_response_time\n",
      "0    within a few hours\n",
      "1                   NaN\n",
      "2                   NaN\n",
      "3        within an hour\n",
      "4                   NaN\n",
      "Name: host_response_time, dtype: object\n",
      "host_response_rate\n",
      "0    100%\n",
      "1     NaN\n",
      "2     NaN\n",
      "3    100%\n",
      "4     NaN\n",
      "Name: host_response_rate, dtype: object\n",
      "host_is_superhost\n",
      "0    f\n",
      "1    f\n",
      "2    f\n",
      "3    f\n",
      "4    f\n",
      "Name: host_is_superhost, dtype: object\n",
      "host_thumbnail_url\n",
      "0    https://a0.muscache.com/im/users/521/profile_p...\n",
      "1    https://a0.muscache.com/im/users/767/profile_p...\n",
      "2    https://a0.muscache.com/defaults/user_pic-50x5...\n",
      "3    https://a0.muscache.com/im/users/3041/profile_...\n",
      "4    https://a0.muscache.com/im/pictures/8b82a267-b...\n",
      "Name: host_thumbnail_url, dtype: object\n",
      "host_picture_url\n",
      "0    https://a0.muscache.com/im/users/521/profile_p...\n",
      "1    https://a0.muscache.com/im/users/767/profile_p...\n",
      "2    https://a0.muscache.com/defaults/user_pic-225x...\n",
      "3    https://a0.muscache.com/im/users/3041/profile_...\n",
      "4    https://a0.muscache.com/im/pictures/8b82a267-b...\n",
      "Name: host_picture_url, dtype: object\n",
      "host_neighbourhood\n",
      "0     Culver City\n",
      "1         Burbank\n",
      "2         Del Rey\n",
      "3    Santa Monica\n",
      "4      Bellflower\n",
      "Name: host_neighbourhood, dtype: object\n",
      "host_verifications\n",
      "0    ['email', 'phone', 'facebook', 'amex', 'review...\n",
      "1        ['email', 'phone', 'reviews', 'jumio', 'kba']\n",
      "2                                            ['email']\n",
      "3                        ['email', 'phone', 'reviews']\n",
      "4                ['email', 'phone', 'facebook', 'kba']\n",
      "Name: host_verifications, dtype: object\n",
      "host_has_profile_pic\n",
      "0    t\n",
      "1    t\n",
      "2    f\n",
      "3    t\n",
      "4    t\n",
      "Name: host_has_profile_pic, dtype: object\n",
      "host_identity_verified\n",
      "0    t\n",
      "1    t\n",
      "2    f\n",
      "3    f\n",
      "4    t\n",
      "Name: host_identity_verified, dtype: object\n",
      "street\n",
      "0       Culver City, CA, United States\n",
      "1           Burbank, CA, United States\n",
      "2    Marina del Rey, CA, United States\n",
      "3      Santa Monica, CA, United States\n",
      "4        Bellflower, CA, United States\n",
      "Name: street, dtype: object\n",
      "neighbourhood\n",
      "0     Culver City\n",
      "1         Burbank\n",
      "2     Culver City\n",
      "3    Santa Monica\n",
      "4        Cerritos\n",
      "Name: neighbourhood, dtype: object\n",
      "neighbourhood_cleansed\n",
      "0     Culver City\n",
      "1         Burbank\n",
      "2         Del Rey\n",
      "3    Santa Monica\n",
      "4      Bellflower\n",
      "Name: neighbourhood_cleansed, dtype: object\n",
      "city\n",
      "0       Culver City\n",
      "1           Burbank\n",
      "2    Marina del Rey\n",
      "3      Santa Monica\n",
      "4        Bellflower\n",
      "Name: city, dtype: object\n",
      "state\n",
      "0    CA\n",
      "1    CA\n",
      "2    CA\n",
      "3    CA\n",
      "4    CA\n",
      "Name: state, dtype: object\n",
      "zipcode\n",
      "0    90230\n",
      "1    91505\n",
      "2    90292\n",
      "3    90405\n",
      "4    90706\n",
      "Name: zipcode, dtype: object\n",
      "market\n",
      "0    Los Angeles\n",
      "1    Los Angeles\n",
      "2    Los Angeles\n",
      "3    Los Angeles\n",
      "4    Los Angeles\n",
      "Name: market, dtype: object\n",
      "smart_location\n",
      "0       Culver City, CA\n",
      "1           Burbank, CA\n",
      "2    Marina del Rey, CA\n",
      "3      Santa Monica, CA\n",
      "4        Bellflower, CA\n",
      "Name: smart_location, dtype: object\n",
      "country_code\n",
      "0    US\n",
      "1    US\n",
      "2    US\n",
      "3    US\n",
      "4    US\n",
      "Name: country_code, dtype: object\n",
      "country\n",
      "0    United States\n",
      "1    United States\n",
      "2    United States\n",
      "3    United States\n",
      "4    United States\n",
      "Name: country, dtype: object\n",
      "is_location_exact\n",
      "0    t\n",
      "1    t\n",
      "2    t\n",
      "3    t\n",
      "4    t\n",
      "Name: is_location_exact, dtype: object\n",
      "property_type\n",
      "0    Condominium\n",
      "1          House\n",
      "2      Apartment\n",
      "3      Apartment\n",
      "4      Apartment\n",
      "Name: property_type, dtype: object\n",
      "room_type\n",
      "0    Entire home/apt\n",
      "1    Entire home/apt\n",
      "2        Shared room\n",
      "3       Private room\n",
      "4    Entire home/apt\n",
      "Name: room_type, dtype: object\n",
      "bed_type\n",
      "0         Real Bed\n",
      "1         Real Bed\n",
      "2           Airbed\n",
      "3    Pull-out Sofa\n",
      "4         Real Bed\n",
      "Name: bed_type, dtype: object\n",
      "amenities\n",
      "0    {TV,\"Cable TV\",Internet,Wifi,\"Air conditioning...\n",
      "1    {TV,\"Cable TV\",Internet,Wifi,\"Air conditioning...\n",
      "2                                                   {}\n",
      "3    {Internet,Wifi,Kitchen,Heating,Washer,Dryer,\"S...\n",
      "4    {TV,\"Cable TV\",Internet,Wifi,\"Air conditioning...\n",
      "Name: amenities, dtype: object\n",
      "price\n",
      "0    $122.00\n",
      "1    $168.00\n",
      "2     $85.00\n",
      "3    $140.00\n",
      "4     $80.00\n",
      "Name: price, dtype: object\n",
      "security_deposit\n",
      "0    $500.00\n",
      "1        NaN\n",
      "2        NaN\n",
      "3        NaN\n",
      "4    $100.00\n",
      "Name: security_deposit, dtype: object\n",
      "cleaning_fee\n",
      "0    $240.00\n",
      "1    $200.00\n",
      "2        NaN\n",
      "3    $100.00\n",
      "4     $75.00\n",
      "Name: cleaning_fee, dtype: object\n",
      "extra_people\n",
      "0    $25.00\n",
      "1     $0.00\n",
      "2    $21.00\n",
      "3     $0.00\n",
      "4    $25.00\n",
      "Name: extra_people, dtype: object\n",
      "calendar_updated\n",
      "0    2 months ago\n",
      "1      4 days ago\n",
      "2    8 months ago\n",
      "3           today\n",
      "4    3 months ago\n",
      "Name: calendar_updated, dtype: object\n",
      "has_availability\n",
      "0    t\n",
      "1    t\n",
      "2    t\n",
      "3    t\n",
      "4    t\n",
      "Name: has_availability, dtype: object\n",
      "calendar_last_scraped\n",
      "0    2018-05-10\n",
      "1    2018-05-10\n",
      "2    2018-05-10\n",
      "3    2018-05-11\n",
      "4    2018-05-10\n",
      "Name: calendar_last_scraped, dtype: object\n",
      "first_review\n",
      "0    2011-08-15\n",
      "1    2016-06-14\n",
      "2           NaN\n",
      "3    2011-06-06\n",
      "4           NaN\n",
      "Name: first_review, dtype: object\n",
      "last_review\n",
      "0    2016-05-15\n",
      "1    2016-12-30\n",
      "2           NaN\n",
      "3    2017-06-14\n",
      "4           NaN\n",
      "Name: last_review, dtype: object\n",
      "requires_license\n",
      "0    f\n",
      "1    f\n",
      "2    f\n",
      "3    t\n",
      "4    f\n",
      "Name: requires_license, dtype: object\n",
      "jurisdiction_names\n",
      "0                              NaN\n",
      "1                              NaN\n",
      "2    {\"City of Los Angeles\",\" CA\"}\n",
      "3                 {\"Santa Monica\"}\n",
      "4                              NaN\n",
      "Name: jurisdiction_names, dtype: object\n",
      "instant_bookable\n",
      "0    f\n",
      "1    t\n",
      "2    f\n",
      "3    f\n",
      "4    f\n",
      "Name: instant_bookable, dtype: object\n",
      "is_business_travel_ready\n",
      "0    f\n",
      "1    f\n",
      "2    f\n",
      "3    f\n",
      "4    f\n",
      "Name: is_business_travel_ready, dtype: object\n",
      "cancellation_policy\n",
      "0    strict_14_with_grace_period\n",
      "1                       flexible\n",
      "2                       moderate\n",
      "3    strict_14_with_grace_period\n",
      "4    strict_14_with_grace_period\n",
      "Name: cancellation_policy, dtype: object\n",
      "require_guest_profile_picture\n",
      "0    t\n",
      "1    f\n",
      "2    f\n",
      "3    f\n",
      "4    f\n",
      "Name: require_guest_profile_picture, dtype: object\n",
      "require_guest_phone_verification\n",
      "0    f\n",
      "1    f\n",
      "2    f\n",
      "3    f\n",
      "4    f\n",
      "Name: require_guest_phone_verification, dtype: object\n"
     ]
    }
   ],
   "source": [
    "# getting all columns with 'object' data type\n",
    "non_numerical_columns = [cols for cols in listings.columns.values if (listings[cols].dtype == 'object')]\n",
    "\n",
    "# print column with sample data \n",
    "for col in non_numerical_columns:\n",
    "    print(col)\n",
    "    print(listings[col].head())"
   ]
  },
  {
   "cell_type": "markdown",
   "metadata": {},
   "source": [
    "After looking at samples of 'object' columns, I decided to only focus on the ones that can be cleaned easily. To see if the data in each column is good, I checked the number of unique values and the distribution of the data."
   ]
  },
  {
   "cell_type": "code",
   "execution_count": 13,
   "metadata": {},
   "outputs": [
    {
     "name": "stdout",
     "output_type": "stream",
     "text": [
      "experiences_offered\n",
      "count     39821\n",
      "unique        1\n",
      "top        none\n",
      "freq      39821\n",
      "Name: experiences_offered, dtype: object\n",
      "host_since\n",
      "count          39762\n",
      "unique          2968\n",
      "top       2017-05-10\n",
      "freq             156\n",
      "Name: host_since, dtype: object\n",
      "host_response_rate\n",
      "count     31945\n",
      "unique       70\n",
      "top        100%\n",
      "freq      24420\n",
      "Name: host_response_rate, dtype: object\n",
      "host_is_superhost\n",
      "count     39762\n",
      "unique        2\n",
      "top           f\n",
      "freq      29695\n",
      "Name: host_is_superhost, dtype: object\n",
      "host_has_profile_pic\n",
      "count     39762\n",
      "unique        2\n",
      "top           t\n",
      "freq      39656\n",
      "Name: host_has_profile_pic, dtype: object\n",
      "host_identity_verified\n",
      "count     39762\n",
      "unique        2\n",
      "top           t\n",
      "freq      21170\n",
      "Name: host_identity_verified, dtype: object\n",
      "property_type\n",
      "count         39821\n",
      "unique           40\n",
      "top       Apartment\n",
      "freq          15708\n",
      "Name: property_type, dtype: object\n",
      "room_type\n",
      "count               39821\n",
      "unique                  3\n",
      "top       Entire home/apt\n",
      "freq                23964\n",
      "Name: room_type, dtype: object\n",
      "bed_type\n",
      "count        39821\n",
      "unique           5\n",
      "top       Real Bed\n",
      "freq         39074\n",
      "Name: bed_type, dtype: object\n",
      "amenities\n",
      "count     39821\n",
      "unique    37623\n",
      "top          {}\n",
      "freq        266\n",
      "Name: amenities, dtype: object\n",
      "price\n",
      "count       39821\n",
      "unique        829\n",
      "top       $100.00\n",
      "freq         1309\n",
      "Name: price, dtype: object\n",
      "security_deposit\n",
      "count     27663\n",
      "unique      197\n",
      "top       $0.00\n",
      "freq       6269\n",
      "Name: security_deposit, dtype: object\n",
      "cleaning_fee\n",
      "count      32885\n",
      "unique       261\n",
      "top       $50.00\n",
      "freq        2739\n",
      "Name: cleaning_fee, dtype: object\n",
      "extra_people\n",
      "count     39821\n",
      "unique       97\n",
      "top       $0.00\n",
      "freq      18975\n",
      "Name: extra_people, dtype: object\n",
      "requires_license\n",
      "count     39821\n",
      "unique        2\n",
      "top           f\n",
      "freq      38091\n",
      "Name: requires_license, dtype: object\n",
      "instant_bookable\n",
      "count     39821\n",
      "unique        2\n",
      "top           f\n",
      "freq      23614\n",
      "Name: instant_bookable, dtype: object\n",
      "cancellation_policy\n",
      "count                           39821\n",
      "unique                              6\n",
      "top       strict_14_with_grace_period\n",
      "freq                            16608\n",
      "Name: cancellation_policy, dtype: object\n"
     ]
    }
   ],
   "source": [
    "non_numerical_more_analysis_columns = ['experiences_offered','host_since','host_response_rate','host_is_superhost',\n",
    "                                        'host_has_profile_pic','host_identity_verified','property_type',\n",
    "                                        'room_type','bed_type','amenities','price','security_deposit','cleaning_fee',\n",
    "                                        'extra_people','requires_license','instant_bookable','cancellation_policy']\n",
    "for col in non_numerical_more_analysis_columns:\n",
    "    print(col)\n",
    "    print(listings[col].describe())"
   ]
  },
  {
   "cell_type": "code",
   "execution_count": 14,
   "metadata": {},
   "outputs": [
    {
     "data": {
      "text/plain": [
       "['host_response_rate',\n",
       " 'host_is_superhost',\n",
       " 'host_identity_verified',\n",
       " 'room_type',\n",
       " 'price',\n",
       " 'security_deposit',\n",
       " 'cleaning_fee',\n",
       " 'extra_people',\n",
       " 'instant_bookable',\n",
       " 'cancellation_policy']"
      ]
     },
     "execution_count": 14,
     "metadata": {},
     "output_type": "execute_result"
    }
   ],
   "source": [
    "# the column 'experiences_offered' has only one value which doesn't make any sense to include it in the data\n",
    "non_numerical_more_analysis_columns.remove('experiences_offered')\n",
    "\n",
    "# the column 'host_since' has too many different values which might lead to overfetting. I decided to remove it\n",
    "non_numerical_more_analysis_columns.remove('host_since')\n",
    "\n",
    "# the column 'host_has_profile_pic' has two values where one is dominant so I decided to remove it\n",
    "non_numerical_more_analysis_columns.remove('host_has_profile_pic')\n",
    "\n",
    "# the column 'property_type' has 42 different values. It looks logically wrong as there might be typos \n",
    "# in some data points. I decided to remove this column\n",
    "non_numerical_more_analysis_columns.remove('property_type')\n",
    "\n",
    "# the column 'bed_type' has 5 values where one is dominant so I decided to remove it\n",
    "non_numerical_more_analysis_columns.remove('bed_type')\n",
    "\n",
    "# the column 'amenities' containes list of data that need to be decoded and cleaned.\n",
    "# Since the number of ameneities might be high, I decided to remove this column\n",
    "non_numerical_more_analysis_columns.remove('amenities')\n",
    "\n",
    "# the column 'host_has_profile_pic' has two values where one is dominant so I decided to remove it\n",
    "non_numerical_more_analysis_columns.remove('requires_license')\n",
    "\n",
    "non_numerical_more_analysis_columns"
   ]
  },
  {
   "cell_type": "markdown",
   "metadata": {},
   "source": [
    "The 'host_response_rate' is a percentage which needs to be replaced to a float number"
   ]
  },
  {
   "cell_type": "code",
   "execution_count": 15,
   "metadata": {},
   "outputs": [],
   "source": [
    "listings['host_response_rate'] = listings['host_response_rate'].replace( '%','', regex=True ).astype(float)"
   ]
  },
  {
   "cell_type": "code",
   "execution_count": 16,
   "metadata": {},
   "outputs": [
    {
     "data": {
      "text/plain": [
       "count    31945.000000\n",
       "mean        95.003036\n",
       "std         15.717577\n",
       "min          0.000000\n",
       "25%        100.000000\n",
       "50%        100.000000\n",
       "75%        100.000000\n",
       "max        100.000000\n",
       "Name: host_response_rate, dtype: float64"
      ]
     },
     "execution_count": 16,
     "metadata": {},
     "output_type": "execute_result"
    }
   ],
   "source": [
    "listings['host_response_rate'].describe()"
   ]
  },
  {
   "cell_type": "markdown",
   "metadata": {},
   "source": [
    "The columns 'host_is_superhost', 'host_identity_verified', and 'instant_bookable' contains binary values (t,f). They needs to be encoded so that 't' will be 1 and 'f' will be 0 "
   ]
  },
  {
   "cell_type": "code",
   "execution_count": 17,
   "metadata": {},
   "outputs": [],
   "source": [
    "true_false_columns = ['host_is_superhost' , 'host_identity_verified','instant_bookable']\n",
    "listings[true_false_columns] = np.where(listings[true_false_columns]=='t', 1, 0)"
   ]
  },
  {
   "cell_type": "markdown",
   "metadata": {},
   "source": [
    "The columns 'price', 'security_deposit' , 'cleaning_fee', and 'extra_people' are all contains doller sign followed by a number. The doller sign must be removed and then the number must be converted into a float number"
   ]
  },
  {
   "cell_type": "code",
   "execution_count": 18,
   "metadata": {},
   "outputs": [],
   "source": [
    "doller_columns = ['price', 'security_deposit' , 'cleaning_fee', 'extra_people']\n",
    "listings[doller_columns] = listings[doller_columns].replace('[\\$,]', '', regex=True).astype(float)"
   ]
  },
  {
   "cell_type": "markdown",
   "metadata": {},
   "source": [
    "The columns 'room_type' and 'cancellation_policy' contains many values which need to be encoded using pd.get_dummies method"
   ]
  },
  {
   "cell_type": "code",
   "execution_count": 19,
   "metadata": {},
   "outputs": [],
   "source": [
    "columns_to_encode = ['room_type' , 'cancellation_policy' ] \n",
    "listings=pd.get_dummies(data=listings, columns=columns_to_encode,drop_first=True)"
   ]
  },
  {
   "cell_type": "markdown",
   "metadata": {},
   "source": [
    "Keep the encoded columns and drop the rest"
   ]
  },
  {
   "cell_type": "code",
   "execution_count": 20,
   "metadata": {},
   "outputs": [],
   "source": [
    "columns_to_delete = new_list = [col for col in non_numerical_columns if col not in non_numerical_more_analysis_columns]\n",
    "listings.drop(columns=columns_to_delete,inplace=True, axis=1)"
   ]
  },
  {
   "cell_type": "markdown",
   "metadata": {},
   "source": [
    "Next, Find out about the missing values and try to fill them"
   ]
  },
  {
   "cell_type": "code",
   "execution_count": 21,
   "metadata": {},
   "outputs": [
    {
     "data": {
      "text/plain": [
       "security_deposit                                   0.305316\n",
       "review_scores_value                                0.234751\n",
       "review_scores_location                             0.234550\n",
       "review_scores_checkin                              0.234248\n",
       "review_scores_communication                        0.233093\n",
       "review_scores_accuracy                             0.233043\n",
       "review_scores_cleanliness                          0.232867\n",
       "review_scores_rating                               0.231812\n",
       "reviews_per_month                                  0.217046\n",
       "host_response_rate                                 0.197785\n",
       "cleaning_fee                                       0.174179\n",
       "host_total_listings_count                          0.001482\n",
       "host_listings_count                                0.001482\n",
       "beds                                               0.001105\n",
       "bathrooms                                          0.001105\n",
       "bedrooms                                           0.000552\n",
       "accommodates                                       0.000000\n",
       "price                                              0.000000\n",
       "host_is_superhost                                  0.000000\n",
       "longitude                                          0.000000\n",
       "latitude                                           0.000000\n",
       "scrape_id                                          0.000000\n",
       "host_id                                            0.000000\n",
       "host_identity_verified                             0.000000\n",
       "cancellation_policy_super_strict_60                0.000000\n",
       "availability_30                                    0.000000\n",
       "guests_included                                    0.000000\n",
       "instant_bookable                                   0.000000\n",
       "cancellation_policy_strict_14_with_grace_period    0.000000\n",
       "cancellation_policy_strict                         0.000000\n",
       "cancellation_policy_moderate                       0.000000\n",
       "room_type_Shared room                              0.000000\n",
       "room_type_Private room                             0.000000\n",
       "calculated_host_listings_count                     0.000000\n",
       "number_of_reviews                                  0.000000\n",
       "extra_people                                       0.000000\n",
       "availability_365                                   0.000000\n",
       "availability_90                                    0.000000\n",
       "availability_60                                    0.000000\n",
       "cancellation_policy_super_strict_30                0.000000\n",
       "maximum_nights                                     0.000000\n",
       "minimum_nights                                     0.000000\n",
       "id                                                 0.000000\n",
       "dtype: float64"
      ]
     },
     "execution_count": 21,
     "metadata": {},
     "output_type": "execute_result"
    }
   ],
   "source": [
    "(listings.isnull().sum()/len(listings)).sort_values(ascending=False)"
   ]
  },
  {
   "cell_type": "code",
   "execution_count": 22,
   "metadata": {},
   "outputs": [
    {
     "data": {
      "text/plain": [
       "count    27663.000000\n",
       "mean       386.918158\n",
       "std        730.940200\n",
       "min          0.000000\n",
       "25%        100.000000\n",
       "50%        200.000000\n",
       "75%        400.000000\n",
       "max       5100.000000\n",
       "Name: security_deposit, dtype: float64"
      ]
     },
     "execution_count": 22,
     "metadata": {},
     "output_type": "execute_result"
    }
   ],
   "source": [
    "listings['security_deposit'].describe()"
   ]
  },
  {
   "cell_type": "markdown",
   "metadata": {},
   "source": [
    "I assuemed that some listings will not have a security deposit. Hence, I filled the missing values with zero"
   ]
  },
  {
   "cell_type": "code",
   "execution_count": 23,
   "metadata": {},
   "outputs": [],
   "source": [
    "listings['security_deposit'] = listings['security_deposit'].fillna(0)"
   ]
  },
  {
   "cell_type": "markdown",
   "metadata": {},
   "source": [
    "Next, There are 8 columns that related to review scores. Missing value in one might lead to inaccurate ovreall review score. So I decided to drop those columns"
   ]
  },
  {
   "cell_type": "code",
   "execution_count": 24,
   "metadata": {},
   "outputs": [],
   "source": [
    "review_columns = ['review_scores_value' , 'review_scores_location', 'review_scores_checkin', \n",
    "                  'review_scores_communication', 'review_scores_accuracy', 'review_scores_cleanliness',\n",
    "                  'review_scores_rating', 'reviews_per_month']\n",
    "listings.drop(columns=review_columns,inplace=True, axis=1)"
   ]
  },
  {
   "cell_type": "code",
   "execution_count": 25,
   "metadata": {},
   "outputs": [
    {
     "data": {
      "text/plain": [
       "count    31945.000000\n",
       "mean        95.003036\n",
       "std         15.717577\n",
       "min          0.000000\n",
       "25%        100.000000\n",
       "50%        100.000000\n",
       "75%        100.000000\n",
       "max        100.000000\n",
       "Name: host_response_rate, dtype: float64"
      ]
     },
     "execution_count": 25,
     "metadata": {},
     "output_type": "execute_result"
    }
   ],
   "source": [
    "listings['host_response_rate'].describe()"
   ]
  },
  {
   "cell_type": "markdown",
   "metadata": {},
   "source": [
    "It looks like that must of the data are within a small range. Dropping the column is the way to go!"
   ]
  },
  {
   "cell_type": "code",
   "execution_count": 26,
   "metadata": {},
   "outputs": [],
   "source": [
    "listings.drop(columns='host_response_rate',inplace=True, axis=1)"
   ]
  },
  {
   "cell_type": "code",
   "execution_count": 27,
   "metadata": {},
   "outputs": [
    {
     "data": {
      "text/plain": [
       "count    32885.000000\n",
       "mean        79.957184\n",
       "std         86.145460\n",
       "min          0.000000\n",
       "25%         30.000000\n",
       "50%         60.000000\n",
       "75%        100.000000\n",
       "max       1500.000000\n",
       "Name: cleaning_fee, dtype: float64"
      ]
     },
     "execution_count": 27,
     "metadata": {},
     "output_type": "execute_result"
    }
   ],
   "source": [
    "listings['cleaning_fee'].describe()"
   ]
  },
  {
   "cell_type": "markdown",
   "metadata": {},
   "source": [
    "I assuemed that some listings will not have a cleaning fee. Hence, I filled the missing values with zero"
   ]
  },
  {
   "cell_type": "code",
   "execution_count": 28,
   "metadata": {},
   "outputs": [],
   "source": [
    "listings['cleaning_fee'] = listings['cleaning_fee'].fillna(0)"
   ]
  },
  {
   "cell_type": "code",
   "execution_count": 29,
   "metadata": {},
   "outputs": [
    {
     "data": {
      "text/plain": [
       "count    39777.000000\n",
       "mean         1.988712\n",
       "std          1.700394\n",
       "min          0.000000\n",
       "25%          1.000000\n",
       "50%          1.000000\n",
       "75%          2.000000\n",
       "max         50.000000\n",
       "Name: beds, dtype: float64"
      ]
     },
     "execution_count": 29,
     "metadata": {},
     "output_type": "execute_result"
    }
   ],
   "source": [
    "listings['beds'].describe()"
   ]
  },
  {
   "cell_type": "markdown",
   "metadata": {},
   "source": [
    "Since the data looks normally distributed, I filled the missing values with the mean"
   ]
  },
  {
   "cell_type": "code",
   "execution_count": 30,
   "metadata": {},
   "outputs": [],
   "source": [
    "listings['beds'] = listings['beds'].fillna(listings['beds'].mean())"
   ]
  },
  {
   "cell_type": "code",
   "execution_count": 31,
   "metadata": {},
   "outputs": [
    {
     "data": {
      "text/plain": [
       "count    39777.000000\n",
       "mean         1.429105\n",
       "std          0.929977\n",
       "min          0.000000\n",
       "25%          1.000000\n",
       "50%          1.000000\n",
       "75%          2.000000\n",
       "max         22.000000\n",
       "Name: bathrooms, dtype: float64"
      ]
     },
     "execution_count": 31,
     "metadata": {},
     "output_type": "execute_result"
    }
   ],
   "source": [
    "listings['bathrooms'].describe()"
   ]
  },
  {
   "cell_type": "markdown",
   "metadata": {},
   "source": [
    "Since the data looks normally distributed, I filled the missing values with the mean"
   ]
  },
  {
   "cell_type": "code",
   "execution_count": 32,
   "metadata": {},
   "outputs": [],
   "source": [
    "listings['bathrooms'] = listings['bathrooms'].fillna(listings['bathrooms'].mean())"
   ]
  },
  {
   "cell_type": "code",
   "execution_count": 33,
   "metadata": {},
   "outputs": [
    {
     "data": {
      "text/plain": [
       "count    39799.000000\n",
       "mean         1.396065\n",
       "std          1.124425\n",
       "min          0.000000\n",
       "25%          1.000000\n",
       "50%          1.000000\n",
       "75%          2.000000\n",
       "max         50.000000\n",
       "Name: bedrooms, dtype: float64"
      ]
     },
     "execution_count": 33,
     "metadata": {},
     "output_type": "execute_result"
    }
   ],
   "source": [
    "listings['bedrooms'].describe()"
   ]
  },
  {
   "cell_type": "markdown",
   "metadata": {},
   "source": [
    "Since the data looks normally distributed, I filled the missing values with the mean"
   ]
  },
  {
   "cell_type": "code",
   "execution_count": 34,
   "metadata": {},
   "outputs": [],
   "source": [
    "listings['bedrooms'] = listings['bedrooms'].fillna(listings['bedrooms'].mean())"
   ]
  },
  {
   "cell_type": "code",
   "execution_count": 35,
   "metadata": {},
   "outputs": [
    {
     "data": {
      "text/plain": [
       "count    39762.000000\n",
       "mean         7.332604\n",
       "std         33.406735\n",
       "min          0.000000\n",
       "25%          1.000000\n",
       "50%          2.000000\n",
       "75%          4.000000\n",
       "max       1124.000000\n",
       "Name: host_listings_count, dtype: float64"
      ]
     },
     "execution_count": 35,
     "metadata": {},
     "output_type": "execute_result"
    }
   ],
   "source": [
    "listings['host_listings_count'].describe()"
   ]
  },
  {
   "cell_type": "markdown",
   "metadata": {},
   "source": [
    "It looks like there are outliers that made the mean to be high. Since most of the data is between 0 and 6, I will fill the missing with the value 3.5"
   ]
  },
  {
   "cell_type": "code",
   "execution_count": 36,
   "metadata": {},
   "outputs": [],
   "source": [
    "listings['host_listings_count'] = listings['host_listings_count'].fillna(3.5)"
   ]
  },
  {
   "cell_type": "code",
   "execution_count": 37,
   "metadata": {},
   "outputs": [
    {
     "data": {
      "text/plain": [
       "count    39762.000000\n",
       "mean         7.332604\n",
       "std         33.406735\n",
       "min          0.000000\n",
       "25%          1.000000\n",
       "50%          2.000000\n",
       "75%          4.000000\n",
       "max       1124.000000\n",
       "Name: host_total_listings_count, dtype: float64"
      ]
     },
     "execution_count": 37,
     "metadata": {},
     "output_type": "execute_result"
    }
   ],
   "source": [
    "listings['host_total_listings_count'].describe()"
   ]
  },
  {
   "cell_type": "markdown",
   "metadata": {},
   "source": [
    "It looks like there are outliers that made the mean to be high. Since most of the data is between 0 and 6, I will fill the missing with the value 3.5"
   ]
  },
  {
   "cell_type": "code",
   "execution_count": 38,
   "metadata": {},
   "outputs": [],
   "source": [
    "listings['host_total_listings_count'] = listings['host_total_listings_count'].fillna(3.5)"
   ]
  },
  {
   "cell_type": "code",
   "execution_count": 39,
   "metadata": {},
   "outputs": [
    {
     "data": {
      "text/plain": [
       "cancellation_policy_super_strict_60                0.0\n",
       "longitude                                          0.0\n",
       "security_deposit                                   0.0\n",
       "price                                              0.0\n",
       "beds                                               0.0\n",
       "bedrooms                                           0.0\n",
       "bathrooms                                          0.0\n",
       "accommodates                                       0.0\n",
       "latitude                                           0.0\n",
       "cancellation_policy_super_strict_30                0.0\n",
       "host_identity_verified                             0.0\n",
       "host_total_listings_count                          0.0\n",
       "host_listings_count                                0.0\n",
       "host_is_superhost                                  0.0\n",
       "host_id                                            0.0\n",
       "scrape_id                                          0.0\n",
       "cleaning_fee                                       0.0\n",
       "guests_included                                    0.0\n",
       "extra_people                                       0.0\n",
       "minimum_nights                                     0.0\n",
       "maximum_nights                                     0.0\n",
       "availability_30                                    0.0\n",
       "availability_60                                    0.0\n",
       "availability_90                                    0.0\n",
       "availability_365                                   0.0\n",
       "number_of_reviews                                  0.0\n",
       "instant_bookable                                   0.0\n",
       "calculated_host_listings_count                     0.0\n",
       "room_type_Private room                             0.0\n",
       "room_type_Shared room                              0.0\n",
       "cancellation_policy_moderate                       0.0\n",
       "cancellation_policy_strict                         0.0\n",
       "cancellation_policy_strict_14_with_grace_period    0.0\n",
       "id                                                 0.0\n",
       "dtype: float64"
      ]
     },
     "execution_count": 39,
     "metadata": {},
     "output_type": "execute_result"
    }
   ],
   "source": [
    "(listings.isnull().sum()/len(listings)).sort_values(ascending=False)"
   ]
  },
  {
   "cell_type": "markdown",
   "metadata": {},
   "source": [
    "I will drop the id, scrape_id, and host_id as they aren't relevent"
   ]
  },
  {
   "cell_type": "code",
   "execution_count": 40,
   "metadata": {},
   "outputs": [],
   "source": [
    "listings.drop(columns=['id','scrape_id','host_id'],inplace=True, axis=1)"
   ]
  },
  {
   "cell_type": "markdown",
   "metadata": {},
   "source": [
    "Next, looking at the price data to see if there is outliers"
   ]
  },
  {
   "cell_type": "code",
   "execution_count": 41,
   "metadata": {},
   "outputs": [
    {
     "data": {
      "text/plain": [
       "count    39821.000000\n",
       "mean       197.202682\n",
       "std        477.834477\n",
       "min          0.000000\n",
       "25%         69.000000\n",
       "50%        100.000000\n",
       "75%        179.000000\n",
       "max      25000.000000\n",
       "Name: price, dtype: float64"
      ]
     },
     "execution_count": 41,
     "metadata": {},
     "output_type": "execute_result"
    }
   ],
   "source": [
    "listings['price'].describe()"
   ]
  },
  {
   "cell_type": "code",
   "execution_count": 42,
   "metadata": {},
   "outputs": [],
   "source": [
    "def plot_price(listings, price_limit):\n",
    "    \"\"\"\n",
    "    The function to plot a bar chart of the price column \n",
    "  \n",
    "    Parameters: \n",
    "        listings: The whole dataframe.\n",
    "        price_limit: The maximum number to include in the graph.        \n",
    "        \n",
    "    \"\"\"\n",
    "    listings = listings[listings['price']<price_limit]\n",
    "    fig, ax = plt.subplots()\n",
    "    counts, bins, patches = ax.hist(listings['price'])\n",
    "    ax.set_xticks(bins)\n",
    "    plt.show()"
   ]
  },
  {
   "cell_type": "code",
   "execution_count": 43,
   "metadata": {},
   "outputs": [
    {
     "data": {
      "image/png": "[encoded data removed]",
      "text/plain": [
       "<Figure size 432x288 with 1 Axes>"
      ]
     },
     "metadata": {
      "needs_background": "light"
     },
     "output_type": "display_data"
    }
   ],
   "source": [
    "plot_price(listings, len(listings['price']))"
   ]
  },
  {
   "cell_type": "markdown",
   "metadata": {},
   "source": [
    "As we can see from the graph above, must of the data in the range between 0 and 2500. I will remove any row with price value larger than 2500 and repeate the same process"
   ]
  },
  {
   "cell_type": "code",
   "execution_count": 44,
   "metadata": {},
   "outputs": [
    {
     "data": {
      "image/png": "[encoded data removed]",
      "text/plain": [
       "<Figure size 432x288 with 1 Axes>"
      ]
     },
     "metadata": {
      "needs_background": "light"
     },
     "output_type": "display_data"
    }
   ],
   "source": [
    "plot_price(listings, 2500)"
   ]
  },
  {
   "cell_type": "markdown",
   "metadata": {},
   "source": [
    "As we can see from the graph above, must of the data in the range between 0 and 500. I will remove any row with price value larger than 500 and repeate the same process"
   ]
  },
  {
   "cell_type": "code",
   "execution_count": 45,
   "metadata": {},
   "outputs": [
    {
     "data": {
      "image/png": "[encoded data removed]",
      "text/plain": [
       "<Figure size 432x288 with 1 Axes>"
      ]
     },
     "metadata": {
      "needs_background": "light"
     },
     "output_type": "display_data"
    }
   ],
   "source": [
    "plot_price(listings, 500)"
   ]
  },
  {
   "cell_type": "markdown",
   "metadata": {},
   "source": [
    "Finally we have a clean data"
   ]
  },
  {
   "cell_type": "code",
   "execution_count": 46,
   "metadata": {},
   "outputs": [
    {
     "data": {
      "text/plain": [
       "Index(['host_is_superhost', 'host_listings_count', 'host_total_listings_count',\n",
       "       'host_identity_verified', 'latitude', 'longitude', 'accommodates',\n",
       "       'bathrooms', 'bedrooms', 'beds', 'price', 'security_deposit',\n",
       "       'cleaning_fee', 'guests_included', 'extra_people', 'minimum_nights',\n",
       "       'maximum_nights', 'availability_30', 'availability_60',\n",
       "       'availability_90', 'availability_365', 'number_of_reviews',\n",
       "       'instant_bookable', 'calculated_host_listings_count',\n",
       "       'room_type_Private room', 'room_type_Shared room',\n",
       "       'cancellation_policy_moderate', 'cancellation_policy_strict',\n",
       "       'cancellation_policy_strict_14_with_grace_period',\n",
       "       'cancellation_policy_super_strict_30',\n",
       "       'cancellation_policy_super_strict_60'],\n",
       "      dtype='object')"
      ]
     },
     "execution_count": 46,
     "metadata": {},
     "output_type": "execute_result"
    }
   ],
   "source": [
    "# Print the list of columns\n",
    "listings.columns"
   ]
  },
  {
   "cell_type": "markdown",
   "metadata": {},
   "source": [
    "#### Clean 'calendar' Data\n",
    "First, let's see how many missing values in the data"
   ]
  },
  {
   "cell_type": "code",
   "execution_count": 47,
   "metadata": {},
   "outputs": [
    {
     "data": {
      "text/plain": [
       "listing_id          0\n",
       "date                0\n",
       "available           0\n",
       "price         7810820\n",
       "dtype: int64"
      ]
     },
     "execution_count": 47,
     "metadata": {},
     "output_type": "execute_result"
    }
   ],
   "source": [
    "calendar.isnull().sum()"
   ]
  },
  {
   "cell_type": "markdown",
   "metadata": {},
   "source": [
    "Looks like the price column has too many missing values. I will drop it."
   ]
  },
  {
   "cell_type": "code",
   "execution_count": 48,
   "metadata": {},
   "outputs": [],
   "source": [
    "calendar.drop(['price'], axis=1, inplace=True)"
   ]
  },
  {
   "cell_type": "markdown",
   "metadata": {},
   "source": [
    "Since the data has a column for the availability, I assuemed that if the listing is not available in a given day, then it has been rented. As the number of unavailable listings getting high, the bussier it is."
   ]
  },
  {
   "cell_type": "code",
   "execution_count": 49,
   "metadata": {},
   "outputs": [
    {
     "data": {
      "text/html": [
       "<div>\n",
       "<style scoped>\n",
       "    .dataframe tbody tr th:only-of-type {\n",
       "        vertical-align: middle;\n",
       "    }\n",
       "\n",
       "    .dataframe tbody tr th {\n",
       "        vertical-align: top;\n",
       "    }\n",
       "\n",
       "    .dataframe thead th {\n",
       "        text-align: right;\n",
       "    }\n",
       "</style>\n",
       "<table border=\"1\" class=\"dataframe\">\n",
       "  <thead>\n",
       "    <tr style=\"text-align: right;\">\n",
       "      <th></th>\n",
       "      <th>listing_id</th>\n",
       "      <th>date</th>\n",
       "      <th>available</th>\n",
       "    </tr>\n",
       "  </thead>\n",
       "  <tbody>\n",
       "    <tr>\n",
       "      <th>365</th>\n",
       "      <td>18511883</td>\n",
       "      <td>2019-05-09</td>\n",
       "      <td>f</td>\n",
       "    </tr>\n",
       "    <tr>\n",
       "      <th>366</th>\n",
       "      <td>18511883</td>\n",
       "      <td>2019-05-08</td>\n",
       "      <td>f</td>\n",
       "    </tr>\n",
       "    <tr>\n",
       "      <th>367</th>\n",
       "      <td>18511883</td>\n",
       "      <td>2019-05-07</td>\n",
       "      <td>f</td>\n",
       "    </tr>\n",
       "    <tr>\n",
       "      <th>368</th>\n",
       "      <td>18511883</td>\n",
       "      <td>2019-05-06</td>\n",
       "      <td>f</td>\n",
       "    </tr>\n",
       "    <tr>\n",
       "      <th>369</th>\n",
       "      <td>18511883</td>\n",
       "      <td>2019-05-05</td>\n",
       "      <td>f</td>\n",
       "    </tr>\n",
       "  </tbody>\n",
       "</table>\n",
       "</div>"
      ],
      "text/plain": [
       "     listing_id        date available\n",
       "365    18511883  2019-05-09         f\n",
       "366    18511883  2019-05-08         f\n",
       "367    18511883  2019-05-07         f\n",
       "368    18511883  2019-05-06         f\n",
       "369    18511883  2019-05-05         f"
      ]
     },
     "execution_count": 49,
     "metadata": {},
     "output_type": "execute_result"
    }
   ],
   "source": [
    "unavailable_calendar = calendar[calendar['available'] == 'f']\n",
    "unavailable_calendar.head(5)"
   ]
  },
  {
   "cell_type": "markdown",
   "metadata": {},
   "source": [
    "# Modeling and Results\n",
    "\n",
    "# Question 1: Can we predict the price?\n",
    "To answer this question, building a machine learning model is the way to go.\n",
    "Since I'm interested in predicting the price, I set 'price' as the target and the rest as features"
   ]
  },
  {
   "cell_type": "code",
   "execution_count": 50,
   "metadata": {},
   "outputs": [],
   "source": [
    "target = listings['price']\n",
    "features = listings.drop(columns=['price'],axis=1)"
   ]
  },
  {
   "cell_type": "markdown",
   "metadata": {},
   "source": [
    "Split the data into train and test sets with 20% as test"
   ]
  },
  {
   "cell_type": "code",
   "execution_count": 51,
   "metadata": {},
   "outputs": [],
   "source": [
    "X_train, X_test, y_train, y_test = train_test_split(features, \n",
    "                                                    target, \n",
    "                                                    test_size=0.20, \n",
    "                                                    random_state=50)"
   ]
  },
  {
   "cell_type": "markdown",
   "metadata": {},
   "source": [
    "Normalize the data"
   ]
  },
  {
   "cell_type": "code",
   "execution_count": 52,
   "metadata": {},
   "outputs": [
    {
     "name": "stderr",
     "output_type": "stream",
     "text": [
      "/anaconda3/lib/python3.7/site-packages/sklearn/preprocessing/data.py:645: DataConversionWarning: Data with input dtype uint8, int64, float64 were all converted to float64 by StandardScaler.\n",
      "  return self.partial_fit(X, y)\n",
      "/anaconda3/lib/python3.7/site-packages/sklearn/base.py:464: DataConversionWarning: Data with input dtype uint8, int64, float64 were all converted to float64 by StandardScaler.\n",
      "  return self.fit(X, **fit_params).transform(X)\n",
      "/anaconda3/lib/python3.7/site-packages/ipykernel_launcher.py:6: DataConversionWarning: Data with input dtype uint8, int64, float64 were all converted to float64 by StandardScaler.\n",
      "  \n"
     ]
    }
   ],
   "source": [
    "#fit and transform training data\n",
    "scaler=StandardScaler()\n",
    "X_train=scaler.fit_transform(X_train)\n",
    "\n",
    "#transform test data\n",
    "X_test=scaler.transform(X_test)"
   ]
  },
  {
   "cell_type": "markdown",
   "metadata": {},
   "source": [
    "Next, I tried different models to predict the price and calculated the error. The model with the best error will be used later with optimaized parameters"
   ]
  },
  {
   "cell_type": "code",
   "execution_count": 53,
   "metadata": {},
   "outputs": [],
   "source": [
    "def train_predict(models, X_train, y_train):\n",
    "    \"\"\"\n",
    "    The function loop through list of models and fit the training set\n",
    "    then it prints the r2 score.\n",
    "  \n",
    "    Parameters: \n",
    "        models (list): The list of models.\n",
    "        X_train: Features training set.\n",
    "        y_train: Target training set.\n",
    "        \n",
    "        \n",
    "    \"\"\"\n",
    "    for model in models:\n",
    "        print(\"Train using: \" , model.__class__.__name__)\n",
    "        model.fit(X_train,y_train)\n",
    "        test_predict = model.predict(X_test)\n",
    "        train_predict = model.predict(X_train)\n",
    "        print(\"r2 score for train: \",r2_score(y_train,train_predict))\n",
    "        print(\"r2 score for test: \",r2_score(y_test,test_predict))"
   ]
  },
  {
   "cell_type": "code",
   "execution_count": 54,
   "metadata": {},
   "outputs": [
    {
     "name": "stdout",
     "output_type": "stream",
     "text": [
      "Train using:  LinearRegression\n",
      "r2 score for train:  0.3903341155070782\n",
      "r2 score for test:  0.4881359695311025\n",
      "Train using:  DecisionTreeRegressor\n",
      "r2 score for train:  1.0\n",
      "r2 score for test:  -0.09977767142988991\n",
      "Train using:  RandomForestRegressor\n"
     ]
    },
    {
     "name": "stderr",
     "output_type": "stream",
     "text": [
      "/anaconda3/lib/python3.7/site-packages/sklearn/ensemble/forest.py:246: FutureWarning: The default value of n_estimators will change from 10 in version 0.20 to 100 in 0.22.\n",
      "  \"10 in version 0.20 to 100 in 0.22.\", FutureWarning)\n"
     ]
    },
    {
     "name": "stdout",
     "output_type": "stream",
     "text": [
      "r2 score for train:  0.9045133010500318\n",
      "r2 score for test:  0.5532057351196966\n",
      "Train using:  SVR\n",
      "r2 score for train:  0.08497536473627854\n",
      "r2 score for test:  0.13322865989316723\n",
      "Train using:  Lasso\n",
      "r2 score for train:  0.3901577782570911\n",
      "r2 score for test:  0.48873954858076585\n",
      "Train using:  ElasticNet\n",
      "r2 score for train:  0.3713252185056194\n",
      "r2 score for test:  0.47762657458224855\n",
      "Train using:  GradientBoostingRegressor\n",
      "r2 score for train:  0.7075161622473735\n",
      "r2 score for test:  0.6462659265715615\n",
      "Train using:  AdaBoostRegressor\n",
      "r2 score for train:  -0.4993770341356307\n",
      "r2 score for test:  -1.2556471704863617\n"
     ]
    }
   ],
   "source": [
    "models = []\n",
    "models.append(LinearRegression())\n",
    "models.append(DecisionTreeRegressor())\n",
    "models.append(RandomForestRegressor())\n",
    "models.append(SVR())\n",
    "models.append(Lasso())\n",
    "models.append(ElasticNet())\n",
    "models.append(GradientBoostingRegressor())\n",
    "models.append(AdaBoostRegressor())\n",
    "train_predict(models, X_train, y_train)"
   ]
  },
  {
   "cell_type": "markdown",
   "metadata": {},
   "source": [
    "I will focus on GradientBoostingRegressor and RandomForestRegressor"
   ]
  },
  {
   "cell_type": "code",
   "execution_count": 55,
   "metadata": {},
   "outputs": [],
   "source": [
    "def tune_parameters(model, parameters, X_train, y_train):\n",
    "    grid_search = GridSearchCV(model, parameters, scoring = 'r2', return_train_score=True, verbose=3)\n",
    "    grid_search.fit(X_train, y_train)\n",
    "    print(grid_search.best_params_)\n",
    "\n",
    "    train_predict = grid_search.predict(X_train)\n",
    "    test_predict = grid_search.predict(X_test)\n",
    "\n",
    "    print(\"r2 score for train: \",r2_score(y_train,train_predict))\n",
    "    print(\"r2 score for test: \",r2_score(y_test,test_predict))\n",
    "    \n",
    "    return grid_search"
   ]
  },
  {
   "cell_type": "code",
   "execution_count": 57,
   "metadata": {},
   "outputs": [
    {
     "name": "stderr",
     "output_type": "stream",
     "text": [
      "/anaconda3/lib/python3.7/site-packages/sklearn/model_selection/_split.py:2053: FutureWarning: You should specify a value for 'cv' instead of relying on the default value. The default value will change from 3 to 5 in version 0.22.\n",
      "  warnings.warn(CV_WARNING, FutureWarning)\n",
      "[Parallel(n_jobs=1)]: Using backend SequentialBackend with 1 concurrent workers.\n"
     ]
    },
    {
     "name": "stdout",
     "output_type": "stream",
     "text": [
      "Fitting 3 folds for each of 1 candidates, totalling 3 fits\n",
      "[CV] max_depth=None, min_samples_leaf=2, n_estimators=400 ............\n",
      "[CV]  max_depth=None, min_samples_leaf=2, n_estimators=400, score=0.43672443133929617, total= 1.6min\n",
      "[CV] max_depth=None, min_samples_leaf=2, n_estimators=400 ............\n"
     ]
    },
    {
     "name": "stderr",
     "output_type": "stream",
     "text": [
      "[Parallel(n_jobs=1)]: Done   1 out of   1 | elapsed:  1.6min remaining:    0.0s\n"
     ]
    },
    {
     "name": "stdout",
     "output_type": "stream",
     "text": [
      "[CV]  max_depth=None, min_samples_leaf=2, n_estimators=400, score=0.6061667076222236, total= 1.4min\n",
      "[CV] max_depth=None, min_samples_leaf=2, n_estimators=400 ............\n"
     ]
    },
    {
     "name": "stderr",
     "output_type": "stream",
     "text": [
      "[Parallel(n_jobs=1)]: Done   2 out of   2 | elapsed:  3.0min remaining:    0.0s\n"
     ]
    },
    {
     "name": "stdout",
     "output_type": "stream",
     "text": [
      "[CV]  max_depth=None, min_samples_leaf=2, n_estimators=400, score=0.5019775574409646, total= 1.4min\n"
     ]
    },
    {
     "name": "stderr",
     "output_type": "stream",
     "text": [
      "[Parallel(n_jobs=1)]: Done   3 out of   3 | elapsed:  4.4min finished\n"
     ]
    },
    {
     "name": "stdout",
     "output_type": "stream",
     "text": [
      "{'max_depth': None, 'min_samples_leaf': 2, 'n_estimators': 400}\n",
      "r2 score for train:  0.8445887549058431\n",
      "r2 score for test:  0.6571811872557103\n"
     ]
    }
   ],
   "source": [
    "rfr_model = RandomForestRegressor(random_state = 50)\n",
    "#parameters = {'max_depth': [20, 30, None],\n",
    "#                 'min_samples_leaf': [2, 4],\n",
    "#                 'n_estimators': [200, 400]\n",
    "#             }\n",
    "\n",
    "parameters = {'max_depth': [None],\n",
    "              'min_samples_leaf':[2], \n",
    "              'n_estimators' : [400]\n",
    "             }\n",
    "rfr_tuned = tune_parameters(rfr_model, parameters, X_train, y_train)"
   ]
  },
  {
   "cell_type": "code",
   "execution_count": 58,
   "metadata": {},
   "outputs": [
    {
     "name": "stderr",
     "output_type": "stream",
     "text": [
      "/anaconda3/lib/python3.7/site-packages/sklearn/model_selection/_split.py:2053: FutureWarning: You should specify a value for 'cv' instead of relying on the default value. The default value will change from 3 to 5 in version 0.22.\n",
      "  warnings.warn(CV_WARNING, FutureWarning)\n",
      "[Parallel(n_jobs=1)]: Using backend SequentialBackend with 1 concurrent workers.\n"
     ]
    },
    {
     "name": "stdout",
     "output_type": "stream",
     "text": [
      "Fitting 3 folds for each of 1 candidates, totalling 3 fits\n",
      "[CV] learning_rate=0.1, max_depth=5, n_estimators=50 .................\n",
      "[CV]  learning_rate=0.1, max_depth=5, n_estimators=50, score=0.413584469918458, total=   4.2s\n",
      "[CV] learning_rate=0.1, max_depth=5, n_estimators=50 .................\n"
     ]
    },
    {
     "name": "stderr",
     "output_type": "stream",
     "text": [
      "[Parallel(n_jobs=1)]: Done   1 out of   1 | elapsed:    4.2s remaining:    0.0s\n"
     ]
    },
    {
     "name": "stdout",
     "output_type": "stream",
     "text": [
      "[CV]  learning_rate=0.1, max_depth=5, n_estimators=50, score=0.5854239284159367, total=   3.3s\n",
      "[CV] learning_rate=0.1, max_depth=5, n_estimators=50 .................\n"
     ]
    },
    {
     "name": "stderr",
     "output_type": "stream",
     "text": [
      "[Parallel(n_jobs=1)]: Done   2 out of   2 | elapsed:    7.5s remaining:    0.0s\n"
     ]
    },
    {
     "name": "stdout",
     "output_type": "stream",
     "text": [
      "[CV]  learning_rate=0.1, max_depth=5, n_estimators=50, score=0.524301419320161, total=   3.6s\n"
     ]
    },
    {
     "name": "stderr",
     "output_type": "stream",
     "text": [
      "[Parallel(n_jobs=1)]: Done   3 out of   3 | elapsed:   11.1s finished\n"
     ]
    },
    {
     "name": "stdout",
     "output_type": "stream",
     "text": [
      "{'learning_rate': 0.1, 'max_depth': 5, 'n_estimators': 50}\n",
      "r2 score for train:  0.799476369991784\n",
      "r2 score for test:  0.6360914384891505\n"
     ]
    }
   ],
   "source": [
    "gbr_model = GradientBoostingRegressor(random_state = 50)\n",
    "#parameters = {'n_estimators': [50,200,400,600],\n",
    "#              'learning_rate':[0.1,0.3,0.5],\n",
    "#              'max_depth' : [2, 5, 10],\n",
    "#             }\n",
    "\n",
    "parameters = {'n_estimators': [50],\n",
    "              'learning_rate':[0.1],\n",
    "              'max_depth' : [5],\n",
    "             }\n",
    "gbr_tuned = tune_parameters(gbr_model, parameters, X_train, y_train)"
   ]
  },
  {
   "cell_type": "markdown",
   "metadata": {},
   "source": [
    "Looks like RandomForestRegressor is performing better at predicting the price"
   ]
  },
  {
   "cell_type": "code",
   "execution_count": 59,
   "metadata": {},
   "outputs": [
    {
     "data": {
      "image/png": "[encoded data removed]",
      "text/plain": [
       "<Figure size 1080x720 with 1 Axes>"
      ]
     },
     "metadata": {
      "needs_background": "light"
     },
     "output_type": "display_data"
    }
   ],
   "source": [
    "test_predict = rfr_tuned.predict(X_test)\n",
    "\n",
    "fig, ax = plt.subplots(figsize=(15,10))\n",
    "ax.plot(range(len(test_predict[:75])),test_predict[:75], color = 'blue')\n",
    "ax.plot(range(len(y_test[:75])),y_test[:75], color = 'red')\n",
    "\n",
    "#ax.plot(y_test, y_test, color = 'red')\n",
    "ax.legend(('predicted price', 'true price'),loc='upper right')\n",
    "plt.show()"
   ]
  },
  {
   "cell_type": "markdown",
   "metadata": {},
   "source": [
    "# Question 2: What are the most important factors in determaing the price?\n",
    "We can get the important factors from the grid search I did earlier in tuning the parameters for the model."
   ]
  },
  {
   "cell_type": "code",
   "execution_count": 60,
   "metadata": {},
   "outputs": [
    {
     "data": {
      "image/png": "[encoded data removed]",
      "text/plain": [
       "<Figure size 864x288 with 1 Axes>"
      ]
     },
     "metadata": {
      "needs_background": "light"
     },
     "output_type": "display_data"
    }
   ],
   "source": [
    "feature_importances_ = gbr_tuned.best_estimator_.feature_importances_\n",
    "features = sorted(zip(feature_importances_, listings.columns), reverse=True)\n",
    "attribute = []\n",
    "coefficient = []\n",
    "for feature in features:\n",
    "    attribute.append(feature[1]) \n",
    "    coefficient.append(feature[0])\n",
    "plt.figure(figsize=(12,4))\n",
    "plt.bar(attribute[:9], height=coefficient[:9])\n",
    "plt.xticks(rotation=90)\n",
    "plt.xlabel('feature')\n",
    "plt.ylabel('feature importance')\n",
    "plt.title('feature importance for the Top 9 features')\n",
    "plt.show()"
   ]
  },
  {
   "cell_type": "markdown",
   "metadata": {},
   "source": [
    "I looks like that the number of bathrooms is a crucial factor, and that seems logically correct. Another important and interesting factor is the security deposit. Location, which we can get from the longitude and latitude, are two less important factores than the two mentioned earlier. "
   ]
  },
  {
   "cell_type": "markdown",
   "metadata": {},
   "source": [
    "# Question 3: When is the most booked?"
   ]
  },
  {
   "cell_type": "markdown",
   "metadata": {},
   "source": [
    "Here, I will be working with the 'calender' data. I already cleaned the data and stored it in the variable 'unavailable_calendar'."
   ]
  },
  {
   "cell_type": "markdown",
   "metadata": {},
   "source": [
    "I will group the number of unavailable listings on daily basis."
   ]
  },
  {
   "cell_type": "code",
   "execution_count": 61,
   "metadata": {},
   "outputs": [
    {
     "data": {
      "text/plain": [
       "date\n",
       "2018-05-09     2271\n",
       "2018-05-10    29750\n",
       "2018-05-11    30911\n",
       "2018-05-12    29309\n",
       "2018-05-13    25950\n",
       "2018-05-14    24468\n",
       "2018-05-15    23970\n",
       "2018-05-16    24008\n",
       "2018-05-17    24379\n",
       "2018-05-18    25725\n",
       "2018-05-19    25939\n",
       "2018-05-20    23638\n",
       "2018-05-21    22434\n",
       "2018-05-22    22065\n",
       "2018-05-23    22135\n",
       "2018-05-24    22739\n",
       "2018-05-25    24262\n",
       "2018-05-26    24902\n",
       "2018-05-27    23693\n",
       "2018-05-28    21382\n",
       "2018-05-29    20441\n",
       "2018-05-30    20372\n",
       "2018-05-31    20724\n",
       "2018-06-01    21342\n",
       "2018-06-02    21411\n",
       "2018-06-03    20350\n",
       "2018-06-04    19745\n",
       "2018-06-05    19495\n",
       "2018-06-06    19581\n",
       "2018-06-07    20225\n",
       "              ...  \n",
       "2019-04-11    23586\n",
       "2019-04-12    23585\n",
       "2019-04-13    23592\n",
       "2019-04-14    23592\n",
       "2019-04-15    23587\n",
       "2019-04-16    23581\n",
       "2019-04-17    23580\n",
       "2019-04-18    23577\n",
       "2019-04-19    23571\n",
       "2019-04-20    23568\n",
       "2019-04-21    23568\n",
       "2019-04-22    23567\n",
       "2019-04-23    23568\n",
       "2019-04-24    23562\n",
       "2019-04-25    23560\n",
       "2019-04-26    23563\n",
       "2019-04-27    23556\n",
       "2019-04-28    23552\n",
       "2019-04-29    23554\n",
       "2019-04-30    23548\n",
       "2019-05-01    23538\n",
       "2019-05-02    23536\n",
       "2019-05-03    23540\n",
       "2019-05-04    23549\n",
       "2019-05-05    23536\n",
       "2019-05-06    23539\n",
       "2019-05-07    23530\n",
       "2019-05-08    23530\n",
       "2019-05-09    21716\n",
       "2019-05-10     2184\n",
       "Name: available, Length: 367, dtype: int64"
      ]
     },
     "execution_count": 61,
     "metadata": {},
     "output_type": "execute_result"
    }
   ],
   "source": [
    "days = unavailable_calendar.groupby('date')['available'].count()\n",
    "days"
   ]
  },
  {
   "cell_type": "markdown",
   "metadata": {},
   "source": [
    "Sorrting that list will give us the bussiest days "
   ]
  },
  {
   "cell_type": "code",
   "execution_count": 62,
   "metadata": {},
   "outputs": [
    {
     "data": {
      "text/plain": [
       "date\n",
       "2018-05-11    30911\n",
       "2018-05-10    29750\n",
       "2018-05-12    29309\n",
       "2018-05-13    25950\n",
       "2018-05-19    25939\n",
       "2018-05-18    25725\n",
       "2018-05-26    24902\n",
       "2018-05-14    24468\n",
       "2018-05-17    24379\n",
       "2018-05-25    24262\n",
       "2018-05-16    24008\n",
       "2018-05-15    23970\n",
       "2019-02-06    23709\n",
       "2019-02-17    23708\n",
       "2019-02-05    23707\n",
       "2019-02-07    23704\n",
       "2019-02-08    23703\n",
       "2019-02-16    23700\n",
       "2019-02-09    23698\n",
       "2019-02-12    23698\n",
       "2019-02-10    23695\n",
       "2019-02-15    23694\n",
       "2019-02-18    23694\n",
       "2019-02-11    23693\n",
       "2019-02-04    23693\n",
       "2018-05-27    23693\n",
       "2019-02-19    23693\n",
       "2019-02-14    23691\n",
       "2019-02-20    23690\n",
       "2019-02-13    23689\n",
       "Name: available, dtype: int64"
      ]
     },
     "execution_count": 62,
     "metadata": {},
     "output_type": "execute_result"
    }
   ],
   "source": [
    "days.sort_values(ascending=False).head(30)"
   ]
  },
  {
   "cell_type": "markdown",
   "metadata": {},
   "source": [
    "It looks like that the second and third weeks of May were the busiest days in Los Angeles"
   ]
  },
  {
   "cell_type": "code",
   "execution_count": 63,
   "metadata": {},
   "outputs": [
    {
     "data": {
      "text/plain": [
       "<matplotlib.axes._subplots.AxesSubplot at 0x1a23c1c6a0>"
      ]
     },
     "execution_count": 63,
     "metadata": {},
     "output_type": "execute_result"
    },
    {
     "data": {
      "image/png": "[encoded data removed]",
      "text/plain": [
       "<Figure size 1080x720 with 1 Axes>"
      ]
     },
     "metadata": {
      "needs_background": "light"
     },
     "output_type": "display_data"
    }
   ],
   "source": [
    "days.plot(figsize=(15,10))"
   ]
  },
  {
   "cell_type": "code",
   "execution_count": 64,
   "metadata": {},
   "outputs": [
    {
     "name": "stdout",
     "output_type": "stream",
     "text": [
      "GradientBoostingRegressor(alpha=0.9, criterion='friedman_mse', init=None,\n",
      "             learning_rate=0.1, loss='ls', max_depth=3, max_features=None,\n",
      "             max_leaf_nodes=None, min_impurity_decrease=0.0,\n",
      "             min_impurity_split=None, min_samples_leaf=1,\n",
      "             min_samples_split=2, min_weight_fraction_leaf=0.0,\n",
      "             n_estimators=100, n_iter_no_change=None, presort='auto',\n",
      "             random_state=None, subsample=1.0, tol=0.0001,\n",
      "             validation_fraction=0.1, verbose=0, warm_start=False)\n"
     ]
    }
   ],
   "source": [
    "print(GradientBoostingRegressor())"
   ]
  },
  {
   "cell_type": "code",
   "execution_count": null,
   "metadata": {},
   "outputs": [],
   "source": []
  }
 ],
 "metadata": {
  "kernelspec": {
   "display_name": "Python 3",
   "language": "python",
   "name": "python3"
  },
  "language_info": {
   "codemirror_mode": {
    "name": "ipython",
    "version": 3
   },
   "file_extension": ".py",
   "mimetype": "text/x-python",
   "name": "python",
   "nbconvert_exporter": "python",
   "pygments_lexer": "ipython3",
   "version": "3.7.2"
  }
 },
 "nbformat": 4,
 "nbformat_minor": 2
}
